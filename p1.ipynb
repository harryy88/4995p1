{
  "nbformat": 4,
  "nbformat_minor": 0,
  "metadata": {
    "colab": {
      "name": "p1.ipynb",
      "provenance": [],
      "collapsed_sections": [],
      "authorship_tag": "ABX9TyN1XqTtlmJMlnUCnk7tOXH+",
      "include_colab_link": true
    },
    "kernelspec": {
      "name": "python3",
      "display_name": "Python 3"
    },
    "language_info": {
      "name": "python"
    }
  },
  "cells": [
    {
      "cell_type": "markdown",
      "metadata": {
        "id": "view-in-github",
        "colab_type": "text"
      },
      "source": [
        "<a href=\"https://colab.research.google.com/github/harryy88/4995p1/blob/main/p1.ipynb\" target=\"_parent\"><img src=\"https://colab.research.google.com/assets/colab-badge.svg\" alt=\"Open In Colab\"/></a>"
      ]
    },
    {
      "cell_type": "code",
      "metadata": {
        "id": "Bc_fjQMZ3-Vp"
      },
      "source": [
        "import os\n",
        "import tempfile\n",
        "import matplotlib as mpl\n",
        "import matplotlib.pyplot as plt\n",
        "import numpy as np\n",
        "import pandas as pd\n",
        "import matplotlib.pyplot as plt \n",
        "from termcolor import colored as cl \n",
        "import itertools \n",
        "import tensorflow as tf\n",
        "from tensorflow import keras\n",
        "import seaborn as sns\n",
        "import sklearn\n",
        "from sklearn.metrics import confusion_matrix\n",
        "from sklearn.model_selection import train_test_split\n",
        "from sklearn.preprocessing import StandardScaler"
      ],
      "execution_count": 108,
      "outputs": []
    },
    {
      "cell_type": "code",
      "metadata": {
        "id": "25jlALUxoltU"
      },
      "source": [
        "mpl.rcParams['figure.figsize'] = (12, 10)\n",
        "colors = plt.rcParams['axes.prop_cycle'].by_key()['color']"
      ],
      "execution_count": 109,
      "outputs": []
    },
    {
      "cell_type": "code",
      "metadata": {
        "colab": {
          "base_uri": "https://localhost:8080/"
        },
        "id": "qdA2ud-_4FAd",
        "outputId": "a61b82cb-f9bf-419f-9d73-218901a9de7c"
      },
      "source": [
        "!curl -L -O \"https://training-images-4995.s3.amazonaws.com/data.zip\""
      ],
      "execution_count": 3,
      "outputs": [
        {
          "output_type": "stream",
          "text": [
            "  % Total    % Received % Xferd  Average Speed   Time    Time     Time  Current\n",
            "                                 Dload  Upload   Total   Spent    Left  Speed\n",
            "100 69.0M  100 69.0M    0     0  28.7M      0  0:00:02  0:00:02 --:--:-- 28.7M\n"
          ],
          "name": "stdout"
        }
      ]
    },
    {
      "cell_type": "code",
      "metadata": {
        "id": "hNTTfwQI4Mp-"
      },
      "source": [
        "from sklearn.metrics import confusion_matrix\n",
        "from sklearn.metrics import accuracy_score \n",
        "from sklearn.metrics import f1_score "
      ],
      "execution_count": 4,
      "outputs": []
    },
    {
      "cell_type": "code",
      "metadata": {
        "id": "9u43whUw4Oes"
      },
      "source": [
        "!unzip -q \"data.zip\" -d ."
      ],
      "execution_count": 5,
      "outputs": []
    },
    {
      "cell_type": "code",
      "metadata": {
        "colab": {
          "base_uri": "https://localhost:8080/"
        },
        "id": "BSwDqNLN4QfX",
        "outputId": "36728e27-4ba6-4e5c-8680-abd7bdebefff"
      },
      "source": [
        "!head -n 3 processed_creditcards.csv"
      ],
      "execution_count": 6,
      "outputs": [
        {
          "output_type": "stream",
          "text": [
            ",V1,V2,V3,V4,V5,V6,V7,V8,V9,V10,V11,V12,V13,V14,V15,V16,V17,V18,V19,V20,V21,V22,V23,V24,V25,V26,V27,V28,Class,Log Ammount\n",
            "0,-1.3598071336738,-0.0727811733098497,2.53634673796914,1.37815522427443,-0.33832076994251803,0.462387777762292,0.239598554061257,0.0986979012610507,0.363786969611213,0.0907941719789316,-0.551599533260813,-0.617800855762348,-0.991389847235408,-0.31116935369987897,1.46817697209427,-0.47040052525947795,0.20797124192924202,0.0257905801985591,0.403992960255733,0.251412098239705,-0.018306777944153,0.277837575558899,-0.110473910188767,0.0669280749146731,0.12853935827352803,-0.189114843888824,0.13355837674038698,-0.0210530534538215,0,5.008105430020374\n",
            "1,1.1918571113148602,0.26615071205963,0.16648011335321,0.448154078460911,0.0600176492822243,-0.0823608088155687,-0.0788029833323113,0.0851016549148104,-0.255425128109186,-0.16697441400461402,1.6127266610547901,1.06523531137287,0.48909501589608,-0.143772296441519,0.635558093258208,0.463917041022171,-0.114804663102346,-0.18336127012399397,-0.14578304132525902,-0.0690831352230203,-0.225775248033138,-0.6386719527718511,0.10128802125323402,-0.33984647552912706,0.167170404418143,0.125894532368176,-0.00898309914322813,0.0147241691924927,0,0.9899128717447687\n"
          ],
          "name": "stdout"
        }
      ]
    },
    {
      "cell_type": "code",
      "metadata": {
        "id": "diVqcvsk4TUw"
      },
      "source": [
        "from sklearn.preprocessing import StandardScaler \n",
        "from sklearn.model_selection import train_test_split \n",
        "from sklearn.tree import DecisionTreeClassifier \n",
        "from sklearn.neighbors import KNeighborsClassifier\n",
        "from sklearn.naive_bayes import GaussianNB\n",
        "from sklearn.linear_model import LogisticRegression \n",
        "from sklearn.svm import SVC \n",
        "from sklearn.ensemble import RandomForestClassifier \n",
        "from xgboost import XGBClassifier "
      ],
      "execution_count": 104,
      "outputs": []
    },
    {
      "cell_type": "code",
      "metadata": {
        "colab": {
          "base_uri": "https://localhost:8080/",
          "height": 241
        },
        "id": "qNeNIJ7C4bVg",
        "outputId": "cf2bc929-6899-4670-9d35-f51b0ef31ae4"
      },
      "source": [
        "df = pd.read_csv('processed_creditcards.csv')\n",
        "df.head()"
      ],
      "execution_count": 10,
      "outputs": [
        {
          "output_type": "execute_result",
          "data": {
            "text/html": [
              "<div>\n",
              "<style scoped>\n",
              "    .dataframe tbody tr th:only-of-type {\n",
              "        vertical-align: middle;\n",
              "    }\n",
              "\n",
              "    .dataframe tbody tr th {\n",
              "        vertical-align: top;\n",
              "    }\n",
              "\n",
              "    .dataframe thead th {\n",
              "        text-align: right;\n",
              "    }\n",
              "</style>\n",
              "<table border=\"1\" class=\"dataframe\">\n",
              "  <thead>\n",
              "    <tr style=\"text-align: right;\">\n",
              "      <th></th>\n",
              "      <th>Unnamed: 0</th>\n",
              "      <th>V1</th>\n",
              "      <th>V2</th>\n",
              "      <th>V3</th>\n",
              "      <th>V4</th>\n",
              "      <th>V5</th>\n",
              "      <th>V6</th>\n",
              "      <th>V7</th>\n",
              "      <th>V8</th>\n",
              "      <th>V9</th>\n",
              "      <th>V10</th>\n",
              "      <th>V11</th>\n",
              "      <th>V12</th>\n",
              "      <th>V13</th>\n",
              "      <th>V14</th>\n",
              "      <th>V15</th>\n",
              "      <th>V16</th>\n",
              "      <th>V17</th>\n",
              "      <th>V18</th>\n",
              "      <th>V19</th>\n",
              "      <th>V20</th>\n",
              "      <th>V21</th>\n",
              "      <th>V22</th>\n",
              "      <th>V23</th>\n",
              "      <th>V24</th>\n",
              "      <th>V25</th>\n",
              "      <th>V26</th>\n",
              "      <th>V27</th>\n",
              "      <th>V28</th>\n",
              "      <th>Class</th>\n",
              "      <th>Log Ammount</th>\n",
              "    </tr>\n",
              "  </thead>\n",
              "  <tbody>\n",
              "    <tr>\n",
              "      <th>0</th>\n",
              "      <td>0</td>\n",
              "      <td>-1.359807</td>\n",
              "      <td>-0.072781</td>\n",
              "      <td>2.536347</td>\n",
              "      <td>1.378155</td>\n",
              "      <td>-0.338321</td>\n",
              "      <td>0.462388</td>\n",
              "      <td>0.239599</td>\n",
              "      <td>0.098698</td>\n",
              "      <td>0.363787</td>\n",
              "      <td>0.090794</td>\n",
              "      <td>-0.551600</td>\n",
              "      <td>-0.617801</td>\n",
              "      <td>-0.991390</td>\n",
              "      <td>-0.311169</td>\n",
              "      <td>1.468177</td>\n",
              "      <td>-0.470401</td>\n",
              "      <td>0.207971</td>\n",
              "      <td>0.025791</td>\n",
              "      <td>0.403993</td>\n",
              "      <td>0.251412</td>\n",
              "      <td>-0.018307</td>\n",
              "      <td>0.277838</td>\n",
              "      <td>-0.110474</td>\n",
              "      <td>0.066928</td>\n",
              "      <td>0.128539</td>\n",
              "      <td>-0.189115</td>\n",
              "      <td>0.133558</td>\n",
              "      <td>-0.021053</td>\n",
              "      <td>0</td>\n",
              "      <td>5.008105</td>\n",
              "    </tr>\n",
              "    <tr>\n",
              "      <th>1</th>\n",
              "      <td>1</td>\n",
              "      <td>1.191857</td>\n",
              "      <td>0.266151</td>\n",
              "      <td>0.166480</td>\n",
              "      <td>0.448154</td>\n",
              "      <td>0.060018</td>\n",
              "      <td>-0.082361</td>\n",
              "      <td>-0.078803</td>\n",
              "      <td>0.085102</td>\n",
              "      <td>-0.255425</td>\n",
              "      <td>-0.166974</td>\n",
              "      <td>1.612727</td>\n",
              "      <td>1.065235</td>\n",
              "      <td>0.489095</td>\n",
              "      <td>-0.143772</td>\n",
              "      <td>0.635558</td>\n",
              "      <td>0.463917</td>\n",
              "      <td>-0.114805</td>\n",
              "      <td>-0.183361</td>\n",
              "      <td>-0.145783</td>\n",
              "      <td>-0.069083</td>\n",
              "      <td>-0.225775</td>\n",
              "      <td>-0.638672</td>\n",
              "      <td>0.101288</td>\n",
              "      <td>-0.339846</td>\n",
              "      <td>0.167170</td>\n",
              "      <td>0.125895</td>\n",
              "      <td>-0.008983</td>\n",
              "      <td>0.014724</td>\n",
              "      <td>0</td>\n",
              "      <td>0.989913</td>\n",
              "    </tr>\n",
              "    <tr>\n",
              "      <th>2</th>\n",
              "      <td>2</td>\n",
              "      <td>-1.358354</td>\n",
              "      <td>-1.340163</td>\n",
              "      <td>1.773209</td>\n",
              "      <td>0.379780</td>\n",
              "      <td>-0.503198</td>\n",
              "      <td>1.800499</td>\n",
              "      <td>0.791461</td>\n",
              "      <td>0.247676</td>\n",
              "      <td>-1.514654</td>\n",
              "      <td>0.207643</td>\n",
              "      <td>0.624501</td>\n",
              "      <td>0.066084</td>\n",
              "      <td>0.717293</td>\n",
              "      <td>-0.165946</td>\n",
              "      <td>2.345865</td>\n",
              "      <td>-2.890083</td>\n",
              "      <td>1.109969</td>\n",
              "      <td>-0.121359</td>\n",
              "      <td>-2.261857</td>\n",
              "      <td>0.524980</td>\n",
              "      <td>0.247998</td>\n",
              "      <td>0.771679</td>\n",
              "      <td>0.909412</td>\n",
              "      <td>-0.689281</td>\n",
              "      <td>-0.327642</td>\n",
              "      <td>-0.139097</td>\n",
              "      <td>-0.055353</td>\n",
              "      <td>-0.059752</td>\n",
              "      <td>0</td>\n",
              "      <td>5.936641</td>\n",
              "    </tr>\n",
              "    <tr>\n",
              "      <th>3</th>\n",
              "      <td>3</td>\n",
              "      <td>-0.966272</td>\n",
              "      <td>-0.185226</td>\n",
              "      <td>1.792993</td>\n",
              "      <td>-0.863291</td>\n",
              "      <td>-0.010309</td>\n",
              "      <td>1.247203</td>\n",
              "      <td>0.237609</td>\n",
              "      <td>0.377436</td>\n",
              "      <td>-1.387024</td>\n",
              "      <td>-0.054952</td>\n",
              "      <td>-0.226487</td>\n",
              "      <td>0.178228</td>\n",
              "      <td>0.507757</td>\n",
              "      <td>-0.287924</td>\n",
              "      <td>-0.631418</td>\n",
              "      <td>-1.059647</td>\n",
              "      <td>-0.684093</td>\n",
              "      <td>1.965775</td>\n",
              "      <td>-1.232622</td>\n",
              "      <td>-0.208038</td>\n",
              "      <td>-0.108300</td>\n",
              "      <td>0.005274</td>\n",
              "      <td>-0.190321</td>\n",
              "      <td>-1.175575</td>\n",
              "      <td>0.647376</td>\n",
              "      <td>-0.221929</td>\n",
              "      <td>0.062723</td>\n",
              "      <td>0.061458</td>\n",
              "      <td>0</td>\n",
              "      <td>4.816249</td>\n",
              "    </tr>\n",
              "    <tr>\n",
              "      <th>4</th>\n",
              "      <td>4</td>\n",
              "      <td>-1.158233</td>\n",
              "      <td>0.877737</td>\n",
              "      <td>1.548718</td>\n",
              "      <td>0.403034</td>\n",
              "      <td>-0.407193</td>\n",
              "      <td>0.095921</td>\n",
              "      <td>0.592941</td>\n",
              "      <td>-0.270533</td>\n",
              "      <td>0.817739</td>\n",
              "      <td>0.753074</td>\n",
              "      <td>-0.822843</td>\n",
              "      <td>0.538196</td>\n",
              "      <td>1.345852</td>\n",
              "      <td>-1.119670</td>\n",
              "      <td>0.175121</td>\n",
              "      <td>-0.451449</td>\n",
              "      <td>-0.237033</td>\n",
              "      <td>-0.038195</td>\n",
              "      <td>0.803487</td>\n",
              "      <td>0.408542</td>\n",
              "      <td>-0.009431</td>\n",
              "      <td>0.798278</td>\n",
              "      <td>-0.137458</td>\n",
              "      <td>0.141267</td>\n",
              "      <td>-0.206010</td>\n",
              "      <td>0.502292</td>\n",
              "      <td>0.219422</td>\n",
              "      <td>0.215153</td>\n",
              "      <td>0</td>\n",
              "      <td>4.248367</td>\n",
              "    </tr>\n",
              "  </tbody>\n",
              "</table>\n",
              "</div>"
            ],
            "text/plain": [
              "   Unnamed: 0        V1        V2  ...       V28  Class  Log Ammount\n",
              "0           0 -1.359807 -0.072781  ... -0.021053      0     5.008105\n",
              "1           1  1.191857  0.266151  ...  0.014724      0     0.989913\n",
              "2           2 -1.358354 -1.340163  ... -0.059752      0     5.936641\n",
              "3           3 -0.966272 -0.185226  ...  0.061458      0     4.816249\n",
              "4           4 -1.158233  0.877737  ...  0.215153      0     4.248367\n",
              "\n",
              "[5 rows x 31 columns]"
            ]
          },
          "metadata": {
            "tags": []
          },
          "execution_count": 10
        }
      ]
    },
    {
      "cell_type": "code",
      "metadata": {
        "id": "9R0Fa9Lh4fSd"
      },
      "source": [
        "total_cases = len(df)\n",
        "valid_transaction_count = len(df[df.Class == 0])\n",
        "invalid_transaction_count = len(df[df.Class == 1])\n",
        "perc_fraudulent = round(fraud_count/nonfraud_count*100, 2)"
      ],
      "execution_count": 15,
      "outputs": []
    },
    {
      "cell_type": "code",
      "metadata": {
        "colab": {
          "base_uri": "https://localhost:8080/"
        },
        "id": "V2XHGtj-4vtd",
        "outputId": "96533bd8-e29d-4e2e-89a6-38617fdf1ce4"
      },
      "source": [
        "print(\"There are\", total_cases, \"Total Cases\")\n",
        "print(\"Total\", valid_transaction_count, \"Not frauduelnt cases\") \n",
        "print(\"Total\", invalid_transaction_count, \"actual frauduelnt cases\") \n",
        "print(\"RESULT = 100*(\", invalid_transaction_count, \"/\",total_cases, \") = \",  100*invalid_transaction_count / total_cases, \"PERCENT Fraudulent\")\n"
      ],
      "execution_count": 22,
      "outputs": [
        {
          "output_type": "stream",
          "text": [
            "There are 284807 Total Cases\n",
            "Total 284315 Not frauduelnt cases\n",
            "Total 492 actual frauduelnt cases\n",
            "RESULT = 100*( 492 / 284807 ) =  0.1727485630620034 PERCENT Fraudulent\n"
          ],
          "name": "stdout"
        }
      ]
    },
    {
      "cell_type": "code",
      "metadata": {
        "id": "B7fD71fS4-0d"
      },
      "source": [
        "X = df.values\n",
        "y = df['Class'].values\n",
        "X_train, X_test, y_train, y_test = train_test_split(X, y, test_size = 0.15, random_state = 0)"
      ],
      "execution_count": 77,
      "outputs": []
    },
    {
      "cell_type": "code",
      "metadata": {
        "colab": {
          "base_uri": "https://localhost:8080/"
        },
        "id": "6SkYN-l-8Egx",
        "outputId": "a6698d86-7302-4db7-e103-4600d533cfba"
      },
      "source": [
        "print(\"X =\", X.size)\n",
        "print(\"Y =\", y.size)\n",
        "print(\"X_train=\",X_train.size)\n",
        "print(\"X_test=\",X_test.size)\n",
        "print(\"y_train=\",y_train.size)\n",
        "print(\"y_test=\",y_test.size)"
      ],
      "execution_count": 78,
      "outputs": [
        {
          "output_type": "stream",
          "text": [
            "X = 8829017\n",
            "Y = 284807\n",
            "X_train= 7504635\n",
            "X_test= 1324382\n",
            "y_train= 242085\n",
            "y_test= 42722\n"
          ],
          "name": "stdout"
        }
      ]
    },
    {
      "cell_type": "code",
      "metadata": {
        "colab": {
          "base_uri": "https://localhost:8080/"
        },
        "id": "aKUygxhjAmfF",
        "outputId": "a3d0b4d7-d4f6-43c9-bb83-a6eb2c27ab79"
      },
      "source": [
        "\n",
        "res = []\n",
        "tree_max_n = 2\n",
        "tree_max_acc = 0\n",
        "tree_max_f1 = 0\n",
        "tree_knn_yhat = None\n",
        "for i in range(1,10):\n",
        "  tree_model = DecisionTreeClassifier(max_depth = i, criterion = 'entropy')\n",
        "  tree_model.fit(X_train, y_train)\n",
        "  tree_yhat_loc = tree_model.predict(X_test)\n",
        "  tree_acc = accuracy_score(y_test, tree_yhat_loc)\n",
        "  tree_f1 = f1_score(y_test, tree_yhat_loc)\n",
        "  if tree_acc > tree_max_acc and tree_f1 > tree_max_f1:\n",
        "    tree_max_acc = tree_acc\n",
        "    tree_knn_yhat = tree_yhat_loc\n",
        "    tree_max_f1 = tree_f1\n",
        "    tree_max_n = i\n",
        "\n",
        "print(\"max acc\", tree_max_acc)\n",
        "print(\"max f1\", tree_max_f1)\n",
        "print(\"max n\", tree_max_n)\n",
        "# max index 0 "
      ],
      "execution_count": 84,
      "outputs": [
        {
          "output_type": "stream",
          "text": [
            "max acc 0.9994557775359011\n",
            "max f1 0.835978835978836\n",
            "max n 6\n"
          ],
          "name": "stdout"
        }
      ]
    },
    {
      "cell_type": "code",
      "metadata": {
        "id": "NmdwEjgvO4Ic"
      },
      "source": [
        "xgb = XGBClassifier(max_depth = 4)\n",
        "xgb.fit(X_train, y_train)\n",
        "xgb_yhat = xgb.predict(X_test)"
      ],
      "execution_count": 89,
      "outputs": []
    },
    {
      "cell_type": "code",
      "metadata": {
        "colab": {
          "base_uri": "https://localhost:8080/"
        },
        "id": "e6JqwNa-O6RY",
        "outputId": "9570027f-b37e-40bd-8a06-9ab02638d02e"
      },
      "source": [
        "print(accuracy_score(y_test, xgb_yhat))\n",
        "print(f1_score(y_test, xgb_yhat))"
      ],
      "execution_count": 91,
      "outputs": [
        {
          "output_type": "stream",
          "text": [
            "0.9994733330992591\n",
            "0.8421052631578948\n"
          ],
          "name": "stdout"
        }
      ]
    },
    {
      "cell_type": "code",
      "metadata": {
        "id": "AnvSNybfkAo9"
      },
      "source": [
        "rf = RandomForestClassifier(max_depth = 4)\n",
        "rf.fit(X_train, y_train)\n",
        "rf_yhat = rf.predict(X_test)\n",
        "rf_max_n = 0\n",
        "rf_max_acc = 0\n",
        "rf_max_f1 = 0\n",
        "rf_knn_yhat = None\n",
        "for i in range(2,10):\n",
        "  rf = RandomForestClassifier(max_depth = i)\n",
        "  rf.fit(X_train, y_train)\n",
        "  rf_yhat_l = rf.predict(X_test)\n",
        "  rf_acc = accuracy_score(y_test, knn_yhat_l)\n",
        "  rf_f1 = f1_score(y_test, knn_yhat_l)\n",
        "  if rf_acc > rf_max_acc and rf_f1 > rf_max_f1:\n",
        "    rf_max_acc = rf_acc\n",
        "    rf_yhat = rf_yhat_l\n",
        "    rf_max_f1 = rf_f1\n",
        "    rf_max_n = i"
      ],
      "execution_count": 105,
      "outputs": []
    },
    {
      "cell_type": "code",
      "metadata": {
        "id": "Nx-F11LYnhjB"
      },
      "source": [
        ""
      ],
      "execution_count": null,
      "outputs": []
    },
    {
      "cell_type": "code",
      "metadata": {
        "colab": {
          "base_uri": "https://localhost:8080/"
        },
        "id": "pIH7wpINQ3o7",
        "outputId": "d10808a1-24be-4f3d-c5ae-dd0bf3b564b4"
      },
      "source": [
        "clg = GaussianNB()\n",
        "clg.fit(X_train, y_train)\n",
        "clg_yhat = clg.predict(X_test)\n",
        "print(accuracy_score(y_test, clg_yhat))\n",
        "print(f1_score(y_test, clg_yhat))"
      ],
      "execution_count": 95,
      "outputs": [
        {
          "output_type": "stream",
          "text": [
            "0.9783364348161933\n",
            "0.12233285917496445\n"
          ],
          "name": "stdout"
        }
      ]
    },
    {
      "cell_type": "code",
      "metadata": {
        "colab": {
          "base_uri": "https://localhost:8080/"
        },
        "id": "sUVYBmxr8Vt2",
        "outputId": "b6c6712e-864e-4679-9b48-37f36f1233f6"
      },
      "source": [
        "\n",
        "res = []\n",
        "knn_max_n = 0\n",
        "knn_max_acc = 0\n",
        "knn_max_f1 = 0\n",
        "knn_knn_yhat = None\n",
        "for i in range(2,10):\n",
        "  knn = KNeighborsClassifier(n_neighbors = i)\n",
        "  knn.fit(X_train, y_train)\n",
        "  knn_yhat_l = knn.predict(X_test)\n",
        "  res.append(knn_yhat_l)\n",
        "  knn_acc = accuracy_score(y_test, knn_yhat_l)\n",
        "  knn_f1 = f1_score(y_test, knn_yhat_l)\n",
        "  if knn_acc > knn_max_acc and knn_f1 > knn_max_f1:\n",
        "    knn_max_acc = knn_acc\n",
        "    knn_yhat = knn_yhat_l\n",
        "    knn_max_f1 = knn_f1\n",
        "    knn_max_n = i\n",
        "\n",
        "print(\"max acc\", knn_max_acc)\n",
        "print(\"max f1\", knn_max_f1)\n",
        "print(\"max n\", knn_max_n)\n",
        "# max index 0 "
      ],
      "execution_count": 82,
      "outputs": [
        {
          "output_type": "stream",
          "text": [
            "max acc 0.999403110845827\n",
            "max f1 0.8089887640449437\n",
            "max n 2\n"
          ],
          "name": "stdout"
        }
      ]
    },
    {
      "cell_type": "code",
      "metadata": {
        "colab": {
          "base_uri": "https://localhost:8080/"
        },
        "id": "X9R_30U98yIH",
        "outputId": "69d8e23a-46d0-4e22-dc76-93e0fb4eff15"
      },
      "source": [
        "for el in res: \n",
        "  print(accuracy_score(y_test, el))\n",
        "  print(f1_score(y_test, el))"
      ],
      "execution_count": 83,
      "outputs": [
        {
          "output_type": "stream",
          "text": [
            "0.999403110845827\n",
            "0.8089887640449437\n",
            "0.999385555282469\n",
            "0.8066298342541437\n",
            "0.9993504441557529\n",
            "0.7909604519774012\n",
            "0.9993328885923949\n",
            "0.7865168539325842\n",
            "0.9992977774656788\n",
            "0.7701149425287357\n",
            "0.9993153330290369\n",
            "0.7771428571428572\n",
            "0.9992451107756047\n",
            "0.7485380116959064\n",
            "0.9992451107756047\n",
            "0.7485380116959064\n"
          ],
          "name": "stdout"
        }
      ]
    },
    {
      "cell_type": "code",
      "metadata": {
        "colab": {
          "base_uri": "https://localhost:8080/"
        },
        "id": "60hc9LeXNV-c",
        "outputId": "ae820149-08c6-4f81-830f-c1246e335a94"
      },
      "source": [
        "lr = LogisticRegression()\n",
        "lr.fit(X_train, y_train)\n",
        "lr_yhat = lr.predict(X_test)\n",
        "print(accuracy_score(y_test, lr_yhat))\n",
        "print(f1_score(y_test, lr_yhat))"
      ],
      "execution_count": 86,
      "outputs": [
        {
          "output_type": "stream",
          "text": [
            "0.9992451107756047\n",
            "0.7542857142857143\n"
          ],
          "name": "stdout"
        },
        {
          "output_type": "stream",
          "text": [
            "/usr/local/lib/python3.7/dist-packages/sklearn/linear_model/_logistic.py:940: ConvergenceWarning: lbfgs failed to converge (status=1):\n",
            "STOP: TOTAL NO. of ITERATIONS REACHED LIMIT.\n",
            "\n",
            "Increase the number of iterations (max_iter) or scale the data as shown in:\n",
            "    https://scikit-learn.org/stable/modules/preprocessing.html\n",
            "Please also refer to the documentation for alternative solver options:\n",
            "    https://scikit-learn.org/stable/modules/linear_model.html#logistic-regression\n",
            "  extra_warning_msg=_LOGISTIC_SOLVER_CONVERGENCE_MSG)\n"
          ],
          "name": "stderr"
        }
      ]
    },
    {
      "cell_type": "code",
      "metadata": {
        "id": "hhgCMBV8NkWe"
      },
      "source": [
        "svm = SVC()\n",
        "svm.fit(X_train, y_train)\n",
        "svm_yhat = svm.predict(X_test)"
      ],
      "execution_count": 87,
      "outputs": []
    },
    {
      "cell_type": "code",
      "metadata": {
        "colab": {
          "base_uri": "https://localhost:8080/"
        },
        "id": "QcODCWPYNmsb",
        "outputId": "82c4ea37-bcf0-4dfe-9066-e4a1c451b39f"
      },
      "source": [
        "print(accuracy_score(y_test, svm_yhat))\n",
        "print(f1_score(y_test, svm_yhat))"
      ],
      "execution_count": 97,
      "outputs": [
        {
          "output_type": "stream",
          "text": [
            "0.998735999438222\n",
            "0.5\n"
          ],
          "name": "stdout"
        }
      ]
    },
    {
      "cell_type": "code",
      "metadata": {
        "id": "TKlEvSjI85Z7"
      },
      "source": [
        "def plot_confusion_matrix(cm, classes, title, normalize = False, cmap = plt.cm.Blues):\n",
        "    title = 'Confusion Matrix of {}'.format(title)\n",
        "    if normalize:\n",
        "        cm = cm.astype(float) / cm.sum(axis=1)[:, np.newaxis]\n",
        "\n",
        "    plt.imshow(cm, interpolation = 'nearest', cmap = cmap)\n",
        "    plt.title(title)\n",
        "    plt.colorbar()\n",
        "    tick_marks = np.arange(len(classes))\n",
        "    plt.xticks(tick_marks, classes, rotation = 45)\n",
        "    plt.yticks(tick_marks, classes)\n",
        "\n",
        "    fmt = '.2f' if normalize else 'd'\n",
        "    thresh = cm.max() / 2.\n",
        "    for i, j in itertools.product(range(cm.shape[0]), range(cm.shape[1])):\n",
        "        plt.text(j, i, format(cm[i, j], fmt),\n",
        "                 horizontalalignment = 'center',\n",
        "                 color = 'white' if cm[i, j] > thresh else 'black')\n",
        "\n",
        "    plt.tight_layout()\n",
        "    plt.ylabel('True label')\n",
        "    plt.xlabel('Predicted label')"
      ],
      "execution_count": 55,
      "outputs": []
    },
    {
      "cell_type": "code",
      "metadata": {
        "colab": {
          "base_uri": "https://localhost:8080/",
          "height": 224
        },
        "id": "4_DFMVCBorjP",
        "outputId": "fdb882d4-700d-4764-bf1d-cd914a6d17ee"
      },
      "source": [
        "file = tf.keras.utils\n",
        "raw_df = pd.read_csv('creditcard 2.csv')\n",
        "raw_df.head()"
      ],
      "execution_count": 110,
      "outputs": [
        {
          "output_type": "execute_result",
          "data": {
            "text/html": [
              "<div>\n",
              "<style scoped>\n",
              "    .dataframe tbody tr th:only-of-type {\n",
              "        vertical-align: middle;\n",
              "    }\n",
              "\n",
              "    .dataframe tbody tr th {\n",
              "        vertical-align: top;\n",
              "    }\n",
              "\n",
              "    .dataframe thead th {\n",
              "        text-align: right;\n",
              "    }\n",
              "</style>\n",
              "<table border=\"1\" class=\"dataframe\">\n",
              "  <thead>\n",
              "    <tr style=\"text-align: right;\">\n",
              "      <th></th>\n",
              "      <th>Time</th>\n",
              "      <th>V1</th>\n",
              "      <th>V2</th>\n",
              "      <th>V3</th>\n",
              "      <th>V4</th>\n",
              "      <th>V5</th>\n",
              "      <th>V6</th>\n",
              "      <th>V7</th>\n",
              "      <th>V8</th>\n",
              "      <th>V9</th>\n",
              "      <th>V10</th>\n",
              "      <th>V11</th>\n",
              "      <th>V12</th>\n",
              "      <th>V13</th>\n",
              "      <th>V14</th>\n",
              "      <th>V15</th>\n",
              "      <th>V16</th>\n",
              "      <th>V17</th>\n",
              "      <th>V18</th>\n",
              "      <th>V19</th>\n",
              "      <th>V20</th>\n",
              "      <th>V21</th>\n",
              "      <th>V22</th>\n",
              "      <th>V23</th>\n",
              "      <th>V24</th>\n",
              "      <th>V25</th>\n",
              "      <th>V26</th>\n",
              "      <th>V27</th>\n",
              "      <th>V28</th>\n",
              "      <th>Amount</th>\n",
              "      <th>Class</th>\n",
              "    </tr>\n",
              "  </thead>\n",
              "  <tbody>\n",
              "    <tr>\n",
              "      <th>0</th>\n",
              "      <td>0.0</td>\n",
              "      <td>-1.359807</td>\n",
              "      <td>-0.072781</td>\n",
              "      <td>2.536347</td>\n",
              "      <td>1.378155</td>\n",
              "      <td>-0.338321</td>\n",
              "      <td>0.462388</td>\n",
              "      <td>0.239599</td>\n",
              "      <td>0.098698</td>\n",
              "      <td>0.363787</td>\n",
              "      <td>0.090794</td>\n",
              "      <td>-0.551600</td>\n",
              "      <td>-0.617801</td>\n",
              "      <td>-0.991390</td>\n",
              "      <td>-0.311169</td>\n",
              "      <td>1.468177</td>\n",
              "      <td>-0.470401</td>\n",
              "      <td>0.207971</td>\n",
              "      <td>0.025791</td>\n",
              "      <td>0.403993</td>\n",
              "      <td>0.251412</td>\n",
              "      <td>-0.018307</td>\n",
              "      <td>0.277838</td>\n",
              "      <td>-0.110474</td>\n",
              "      <td>0.066928</td>\n",
              "      <td>0.128539</td>\n",
              "      <td>-0.189115</td>\n",
              "      <td>0.133558</td>\n",
              "      <td>-0.021053</td>\n",
              "      <td>149.62</td>\n",
              "      <td>0</td>\n",
              "    </tr>\n",
              "    <tr>\n",
              "      <th>1</th>\n",
              "      <td>0.0</td>\n",
              "      <td>1.191857</td>\n",
              "      <td>0.266151</td>\n",
              "      <td>0.166480</td>\n",
              "      <td>0.448154</td>\n",
              "      <td>0.060018</td>\n",
              "      <td>-0.082361</td>\n",
              "      <td>-0.078803</td>\n",
              "      <td>0.085102</td>\n",
              "      <td>-0.255425</td>\n",
              "      <td>-0.166974</td>\n",
              "      <td>1.612727</td>\n",
              "      <td>1.065235</td>\n",
              "      <td>0.489095</td>\n",
              "      <td>-0.143772</td>\n",
              "      <td>0.635558</td>\n",
              "      <td>0.463917</td>\n",
              "      <td>-0.114805</td>\n",
              "      <td>-0.183361</td>\n",
              "      <td>-0.145783</td>\n",
              "      <td>-0.069083</td>\n",
              "      <td>-0.225775</td>\n",
              "      <td>-0.638672</td>\n",
              "      <td>0.101288</td>\n",
              "      <td>-0.339846</td>\n",
              "      <td>0.167170</td>\n",
              "      <td>0.125895</td>\n",
              "      <td>-0.008983</td>\n",
              "      <td>0.014724</td>\n",
              "      <td>2.69</td>\n",
              "      <td>0</td>\n",
              "    </tr>\n",
              "    <tr>\n",
              "      <th>2</th>\n",
              "      <td>1.0</td>\n",
              "      <td>-1.358354</td>\n",
              "      <td>-1.340163</td>\n",
              "      <td>1.773209</td>\n",
              "      <td>0.379780</td>\n",
              "      <td>-0.503198</td>\n",
              "      <td>1.800499</td>\n",
              "      <td>0.791461</td>\n",
              "      <td>0.247676</td>\n",
              "      <td>-1.514654</td>\n",
              "      <td>0.207643</td>\n",
              "      <td>0.624501</td>\n",
              "      <td>0.066084</td>\n",
              "      <td>0.717293</td>\n",
              "      <td>-0.165946</td>\n",
              "      <td>2.345865</td>\n",
              "      <td>-2.890083</td>\n",
              "      <td>1.109969</td>\n",
              "      <td>-0.121359</td>\n",
              "      <td>-2.261857</td>\n",
              "      <td>0.524980</td>\n",
              "      <td>0.247998</td>\n",
              "      <td>0.771679</td>\n",
              "      <td>0.909412</td>\n",
              "      <td>-0.689281</td>\n",
              "      <td>-0.327642</td>\n",
              "      <td>-0.139097</td>\n",
              "      <td>-0.055353</td>\n",
              "      <td>-0.059752</td>\n",
              "      <td>378.66</td>\n",
              "      <td>0</td>\n",
              "    </tr>\n",
              "    <tr>\n",
              "      <th>3</th>\n",
              "      <td>1.0</td>\n",
              "      <td>-0.966272</td>\n",
              "      <td>-0.185226</td>\n",
              "      <td>1.792993</td>\n",
              "      <td>-0.863291</td>\n",
              "      <td>-0.010309</td>\n",
              "      <td>1.247203</td>\n",
              "      <td>0.237609</td>\n",
              "      <td>0.377436</td>\n",
              "      <td>-1.387024</td>\n",
              "      <td>-0.054952</td>\n",
              "      <td>-0.226487</td>\n",
              "      <td>0.178228</td>\n",
              "      <td>0.507757</td>\n",
              "      <td>-0.287924</td>\n",
              "      <td>-0.631418</td>\n",
              "      <td>-1.059647</td>\n",
              "      <td>-0.684093</td>\n",
              "      <td>1.965775</td>\n",
              "      <td>-1.232622</td>\n",
              "      <td>-0.208038</td>\n",
              "      <td>-0.108300</td>\n",
              "      <td>0.005274</td>\n",
              "      <td>-0.190321</td>\n",
              "      <td>-1.175575</td>\n",
              "      <td>0.647376</td>\n",
              "      <td>-0.221929</td>\n",
              "      <td>0.062723</td>\n",
              "      <td>0.061458</td>\n",
              "      <td>123.50</td>\n",
              "      <td>0</td>\n",
              "    </tr>\n",
              "    <tr>\n",
              "      <th>4</th>\n",
              "      <td>2.0</td>\n",
              "      <td>-1.158233</td>\n",
              "      <td>0.877737</td>\n",
              "      <td>1.548718</td>\n",
              "      <td>0.403034</td>\n",
              "      <td>-0.407193</td>\n",
              "      <td>0.095921</td>\n",
              "      <td>0.592941</td>\n",
              "      <td>-0.270533</td>\n",
              "      <td>0.817739</td>\n",
              "      <td>0.753074</td>\n",
              "      <td>-0.822843</td>\n",
              "      <td>0.538196</td>\n",
              "      <td>1.345852</td>\n",
              "      <td>-1.119670</td>\n",
              "      <td>0.175121</td>\n",
              "      <td>-0.451449</td>\n",
              "      <td>-0.237033</td>\n",
              "      <td>-0.038195</td>\n",
              "      <td>0.803487</td>\n",
              "      <td>0.408542</td>\n",
              "      <td>-0.009431</td>\n",
              "      <td>0.798278</td>\n",
              "      <td>-0.137458</td>\n",
              "      <td>0.141267</td>\n",
              "      <td>-0.206010</td>\n",
              "      <td>0.502292</td>\n",
              "      <td>0.219422</td>\n",
              "      <td>0.215153</td>\n",
              "      <td>69.99</td>\n",
              "      <td>0</td>\n",
              "    </tr>\n",
              "  </tbody>\n",
              "</table>\n",
              "</div>"
            ],
            "text/plain": [
              "   Time        V1        V2        V3  ...       V27       V28  Amount  Class\n",
              "0   0.0 -1.359807 -0.072781  2.536347  ...  0.133558 -0.021053  149.62      0\n",
              "1   0.0  1.191857  0.266151  0.166480  ... -0.008983  0.014724    2.69      0\n",
              "2   1.0 -1.358354 -1.340163  1.773209  ... -0.055353 -0.059752  378.66      0\n",
              "3   1.0 -0.966272 -0.185226  1.792993  ...  0.062723  0.061458  123.50      0\n",
              "4   2.0 -1.158233  0.877737  1.548718  ...  0.219422  0.215153   69.99      0\n",
              "\n",
              "[5 rows x 31 columns]"
            ]
          },
          "metadata": {
            "tags": []
          },
          "execution_count": 110
        }
      ]
    },
    {
      "cell_type": "code",
      "metadata": {
        "id": "Jsr-4qhuo6NV"
      },
      "source": [
        "cleaned_df = raw_df.copy()\n",
        "cleaned_df.pop('Time')\n",
        "eps = 0.001 \n",
        "cleaned_df['Log Ammount'] = np.log(cleaned_df.pop('Amount')+eps)"
      ],
      "execution_count": 112,
      "outputs": []
    },
    {
      "cell_type": "code",
      "metadata": {
        "id": "p6zqQ-GipEus"
      },
      "source": [
        "\n",
        "train_df, test_df = train_test_split(cleaned_df, test_size=0.2)\n",
        "train_df, val_df = train_test_split(train_df, test_size=0.2)\n",
        "\n",
        "train_labels = np.array(train_df.pop('Class'))\n",
        "bool_train_labels = train_labels != 0\n",
        "val_labels = np.array(val_df.pop('Class'))\n",
        "test_labels = np.array(test_df.pop('Class'))\n",
        "\n",
        "train_features = np.array(train_df)\n",
        "val_features = np.array(val_df)\n",
        "test_features = np.array(test_df)"
      ],
      "execution_count": 113,
      "outputs": []
    },
    {
      "cell_type": "code",
      "metadata": {
        "colab": {
          "base_uri": "https://localhost:8080/"
        },
        "id": "TIRgQlmLpHOh",
        "outputId": "239fd51f-6f9e-4641-e15a-19f1915a2197"
      },
      "source": [
        "scaler = StandardScaler()\n",
        "train_features = scaler.fit_transform(train_features)\n",
        "\n",
        "val_features = scaler.transform(val_features)\n",
        "test_features = scaler.transform(test_features)\n",
        "\n",
        "train_features = np.clip(train_features, -5, 5)\n",
        "val_features = np.clip(val_features, -5, 5)\n",
        "test_features = np.clip(test_features, -5, 5)\n",
        "\n",
        "\n",
        "print('Training labels shape:', train_labels.shape)\n",
        "print('Validation labels shape:', val_labels.shape)\n",
        "print('Test labels shape:', test_labels.shape)\n",
        "\n",
        "print('Training features shape:', train_features.shape)\n",
        "print('Validation features shape:', val_features.shape)\n",
        "print('Test features shape:', test_features.shape)"
      ],
      "execution_count": 114,
      "outputs": [
        {
          "output_type": "stream",
          "text": [
            "Training labels shape: (182276,)\n",
            "Validation labels shape: (45569,)\n",
            "Test labels shape: (56962,)\n",
            "Training features shape: (182276, 29)\n",
            "Validation features shape: (45569, 29)\n",
            "Test features shape: (56962, 29)\n"
          ],
          "name": "stdout"
        }
      ]
    },
    {
      "cell_type": "code",
      "metadata": {
        "colab": {
          "base_uri": "https://localhost:8080/"
        },
        "id": "iRFKzETfpOTG",
        "outputId": "dbca1b20-f710-45a4-8002-9d1ac3e06d09"
      },
      "source": [
        "METRICS = [\n",
        "      keras.metrics.TruePositives(name='tp'),\n",
        "      keras.metrics.FalsePositives(name='fp'),\n",
        "      keras.metrics.TrueNegatives(name='tn'),\n",
        "      keras.metrics.FalseNegatives(name='fn'), \n",
        "      keras.metrics.BinaryAccuracy(name='accuracy'),\n",
        "      keras.metrics.Precision(name='precision'),\n",
        "      keras.metrics.Recall(name='recall'),\n",
        "      keras.metrics.AUC(name='auc'),\n",
        "      keras.metrics.AUC(name='prc', curve='PR'), # precision-recall curve\n",
        "]\n",
        "\n",
        "def make_model(metrics=METRICS, output_bias=None):\n",
        "  if output_bias is not None:\n",
        "    output_bias = tf.keras.initializers.Constant(output_bias)\n",
        "  model = keras.Sequential([\n",
        "      keras.layers.Dense(\n",
        "          16, activation='relu',\n",
        "          input_shape=(train_features.shape[-1],)),\n",
        "      keras.layers.Dropout(0.5),\n",
        "      keras.layers.Dense(1, activation='sigmoid',\n",
        "                         bias_initializer=output_bias),\n",
        "  ])\n",
        "\n",
        "  model.compile(\n",
        "      optimizer=keras.optimizers.Adam(lr=1e-3),\n",
        "      loss=keras.losses.BinaryCrossentropy(),\n",
        "      metrics=metrics)\n",
        "\n",
        "  return model\n",
        "\n",
        "EPOCHS = 100\n",
        "BATCH_SIZE = 2048\n",
        "\n",
        "early_stopping = tf.keras.callbacks.EarlyStopping(\n",
        "    monitor='val_prc', \n",
        "    verbose=1,\n",
        "    patience=10,\n",
        "    mode='max',\n",
        "    restore_best_weights=True)\n",
        "model = make_model()\n",
        "model.summary()\n",
        "model.predict(train_features[:10])\n",
        "\n",
        "\n",
        "initial_weights = os.path.join(tempfile.mkdtemp(), 'initial_weights')\n",
        "model.save_weights(initial_weights)"
      ],
      "execution_count": 118,
      "outputs": [
        {
          "output_type": "stream",
          "text": [
            "Model: \"sequential_2\"\n",
            "_________________________________________________________________\n",
            "Layer (type)                 Output Shape              Param #   \n",
            "=================================================================\n",
            "dense_4 (Dense)              (None, 16)                480       \n",
            "_________________________________________________________________\n",
            "dropout_2 (Dropout)          (None, 16)                0         \n",
            "_________________________________________________________________\n",
            "dense_5 (Dense)              (None, 1)                 17        \n",
            "=================================================================\n",
            "Total params: 497\n",
            "Trainable params: 497\n",
            "Non-trainable params: 0\n",
            "_________________________________________________________________\n"
          ],
          "name": "stdout"
        }
      ]
    },
    {
      "cell_type": "code",
      "metadata": {
        "colab": {
          "base_uri": "https://localhost:8080/"
        },
        "id": "nPhpLEPapvrL",
        "outputId": "8d0f4216-ee1e-4b0c-a863-350899088256"
      },
      "source": [
        "model = make_model()\n",
        "model.load_weights(initial_weights)\n",
        "baseline_history = model.fit(\n",
        "    train_features,\n",
        "    train_labels,\n",
        "    batch_size=BATCH_SIZE,\n",
        "    epochs=EPOCHS,\n",
        "    callbacks=[early_stopping],\n",
        "    validation_data=(val_features, val_labels))"
      ],
      "execution_count": 120,
      "outputs": [
        {
          "output_type": "stream",
          "text": [
            "Epoch 1/100\n",
            "90/90 [==============================] - 4s 22ms/step - loss: 0.3488 - tp: 109.4945 - fp: 9063.9011 - tn: 130412.3297 - fn: 123.8462 - accuracy: 0.9360 - precision: 0.0153 - recall: 0.4982 - auc: 0.7218 - prc: 0.1104 - val_loss: 0.1146 - val_tp: 11.0000 - val_fp: 1.0000 - val_tn: 45493.0000 - val_fn: 64.0000 - val_accuracy: 0.9986 - val_precision: 0.9167 - val_recall: 0.1467 - val_auc: 0.6969 - val_prc: 0.2568\n",
            "Epoch 2/100\n",
            "90/90 [==============================] - 1s 10ms/step - loss: 0.1482 - tp: 56.2747 - fp: 996.0000 - tn: 92991.6923 - fn: 96.6044 - accuracy: 0.9866 - precision: 0.0482 - recall: 0.3667 - auc: 0.6001 - prc: 0.1983 - val_loss: 0.0515 - val_tp: 26.0000 - val_fp: 6.0000 - val_tn: 45488.0000 - val_fn: 49.0000 - val_accuracy: 0.9988 - val_precision: 0.8125 - val_recall: 0.3467 - val_auc: 0.8226 - val_prc: 0.4713\n",
            "Epoch 3/100\n",
            "90/90 [==============================] - 1s 10ms/step - loss: 0.0876 - tp: 60.5934 - fp: 208.1099 - tn: 93778.2527 - fn: 93.6154 - accuracy: 0.9966 - precision: 0.1986 - recall: 0.3607 - auc: 0.6996 - prc: 0.2980 - val_loss: 0.0275 - val_tp: 38.0000 - val_fp: 12.0000 - val_tn: 45482.0000 - val_fn: 37.0000 - val_accuracy: 0.9989 - val_precision: 0.7600 - val_recall: 0.5067 - val_auc: 0.8524 - val_prc: 0.5236\n",
            "Epoch 4/100\n",
            "90/90 [==============================] - 1s 11ms/step - loss: 0.0596 - tp: 83.7473 - fp: 69.2418 - tn: 93899.0769 - fn: 88.5055 - accuracy: 0.9983 - precision: 0.5355 - recall: 0.4923 - auc: 0.8414 - prc: 0.4300 - val_loss: 0.0168 - val_tp: 42.0000 - val_fp: 12.0000 - val_tn: 45482.0000 - val_fn: 33.0000 - val_accuracy: 0.9990 - val_precision: 0.7778 - val_recall: 0.5600 - val_auc: 0.8678 - val_prc: 0.5802\n",
            "Epoch 5/100\n",
            "90/90 [==============================] - 1s 11ms/step - loss: 0.0442 - tp: 82.1209 - fp: 36.3297 - tn: 93950.9670 - fn: 71.1538 - accuracy: 0.9989 - precision: 0.6806 - recall: 0.5316 - auc: 0.8735 - prc: 0.4783 - val_loss: 0.0115 - val_tp: 45.0000 - val_fp: 12.0000 - val_tn: 45482.0000 - val_fn: 30.0000 - val_accuracy: 0.9991 - val_precision: 0.7895 - val_recall: 0.6000 - val_auc: 0.8803 - val_prc: 0.6118\n",
            "Epoch 6/100\n",
            "90/90 [==============================] - 1s 10ms/step - loss: 0.0365 - tp: 91.6593 - fp: 26.2967 - tn: 93947.9670 - fn: 74.6484 - accuracy: 0.9990 - precision: 0.7944 - recall: 0.5385 - auc: 0.8720 - prc: 0.5007 - val_loss: 0.0088 - val_tp: 45.0000 - val_fp: 12.0000 - val_tn: 45482.0000 - val_fn: 30.0000 - val_accuracy: 0.9991 - val_precision: 0.7895 - val_recall: 0.6000 - val_auc: 0.8944 - val_prc: 0.6185\n",
            "Epoch 7/100\n",
            "90/90 [==============================] - 1s 11ms/step - loss: 0.0308 - tp: 92.6813 - fp: 25.5055 - tn: 93948.5385 - fn: 73.8462 - accuracy: 0.9988 - precision: 0.7605 - recall: 0.5236 - auc: 0.8682 - prc: 0.5273 - val_loss: 0.0072 - val_tp: 47.0000 - val_fp: 12.0000 - val_tn: 45482.0000 - val_fn: 28.0000 - val_accuracy: 0.9991 - val_precision: 0.7966 - val_recall: 0.6267 - val_auc: 0.8938 - val_prc: 0.6161\n",
            "Epoch 8/100\n",
            "90/90 [==============================] - 1s 10ms/step - loss: 0.0260 - tp: 92.3187 - fp: 22.0440 - tn: 93959.4066 - fn: 66.8022 - accuracy: 0.9990 - precision: 0.7816 - recall: 0.5646 - auc: 0.8958 - prc: 0.5657 - val_loss: 0.0062 - val_tp: 47.0000 - val_fp: 12.0000 - val_tn: 45482.0000 - val_fn: 28.0000 - val_accuracy: 0.9991 - val_precision: 0.7966 - val_recall: 0.6267 - val_auc: 0.9005 - val_prc: 0.6254\n",
            "Epoch 9/100\n",
            "90/90 [==============================] - 1s 10ms/step - loss: 0.0229 - tp: 102.8901 - fp: 21.1099 - tn: 93954.6484 - fn: 61.9231 - accuracy: 0.9991 - precision: 0.8237 - recall: 0.6246 - auc: 0.9020 - prc: 0.6282 - val_loss: 0.0056 - val_tp: 47.0000 - val_fp: 12.0000 - val_tn: 45482.0000 - val_fn: 28.0000 - val_accuracy: 0.9991 - val_precision: 0.7966 - val_recall: 0.6267 - val_auc: 0.8999 - val_prc: 0.6342\n",
            "Epoch 10/100\n",
            "90/90 [==============================] - 1s 10ms/step - loss: 0.0213 - tp: 97.1429 - fp: 16.5714 - tn: 93958.3956 - fn: 68.4615 - accuracy: 0.9991 - precision: 0.8707 - recall: 0.5712 - auc: 0.8984 - prc: 0.5792 - val_loss: 0.0052 - val_tp: 48.0000 - val_fp: 12.0000 - val_tn: 45482.0000 - val_fn: 27.0000 - val_accuracy: 0.9991 - val_precision: 0.8000 - val_recall: 0.6400 - val_auc: 0.8965 - val_prc: 0.6345\n",
            "Epoch 11/100\n",
            "90/90 [==============================] - 1s 10ms/step - loss: 0.0191 - tp: 106.2637 - fp: 20.8022 - tn: 93952.9121 - fn: 60.5934 - accuracy: 0.9991 - precision: 0.8351 - recall: 0.6178 - auc: 0.9000 - prc: 0.6010 - val_loss: 0.0049 - val_tp: 48.0000 - val_fp: 12.0000 - val_tn: 45482.0000 - val_fn: 27.0000 - val_accuracy: 0.9991 - val_precision: 0.8000 - val_recall: 0.6400 - val_auc: 0.8912 - val_prc: 0.6384\n",
            "Epoch 12/100\n",
            "90/90 [==============================] - 1s 10ms/step - loss: 0.0173 - tp: 106.9451 - fp: 13.8132 - tn: 93963.1758 - fn: 56.6374 - accuracy: 0.9993 - precision: 0.8853 - recall: 0.6646 - auc: 0.9045 - prc: 0.6766 - val_loss: 0.0047 - val_tp: 49.0000 - val_fp: 12.0000 - val_tn: 45482.0000 - val_fn: 26.0000 - val_accuracy: 0.9992 - val_precision: 0.8033 - val_recall: 0.6533 - val_auc: 0.8851 - val_prc: 0.6299\n",
            "Epoch 13/100\n",
            "90/90 [==============================] - 1s 10ms/step - loss: 0.0171 - tp: 103.1319 - fp: 19.6813 - tn: 93951.7582 - fn: 66.0000 - accuracy: 0.9991 - precision: 0.8541 - recall: 0.6015 - auc: 0.9001 - prc: 0.6068 - val_loss: 0.0045 - val_tp: 49.0000 - val_fp: 12.0000 - val_tn: 45482.0000 - val_fn: 26.0000 - val_accuracy: 0.9992 - val_precision: 0.8033 - val_recall: 0.6533 - val_auc: 0.8854 - val_prc: 0.6473\n",
            "Epoch 14/100\n",
            "90/90 [==============================] - 1s 11ms/step - loss: 0.0145 - tp: 112.5824 - fp: 15.5495 - tn: 93960.5604 - fn: 51.8791 - accuracy: 0.9993 - precision: 0.8937 - recall: 0.6690 - auc: 0.9252 - prc: 0.7057 - val_loss: 0.0044 - val_tp: 50.0000 - val_fp: 13.0000 - val_tn: 45481.0000 - val_fn: 25.0000 - val_accuracy: 0.9992 - val_precision: 0.7937 - val_recall: 0.6667 - val_auc: 0.8857 - val_prc: 0.6582\n",
            "Epoch 15/100\n",
            "90/90 [==============================] - 1s 11ms/step - loss: 0.0142 - tp: 107.4176 - fp: 17.3297 - tn: 93961.9780 - fn: 53.8462 - accuracy: 0.9992 - precision: 0.8420 - recall: 0.6580 - auc: 0.9078 - prc: 0.6609 - val_loss: 0.0043 - val_tp: 50.0000 - val_fp: 13.0000 - val_tn: 45481.0000 - val_fn: 25.0000 - val_accuracy: 0.9992 - val_precision: 0.7937 - val_recall: 0.6667 - val_auc: 0.8859 - val_prc: 0.6605\n",
            "Epoch 16/100\n",
            "90/90 [==============================] - 1s 11ms/step - loss: 0.0134 - tp: 115.6154 - fp: 17.9011 - tn: 93957.2418 - fn: 49.8132 - accuracy: 0.9993 - precision: 0.8691 - recall: 0.6945 - auc: 0.9296 - prc: 0.6808 - val_loss: 0.0042 - val_tp: 51.0000 - val_fp: 13.0000 - val_tn: 45481.0000 - val_fn: 24.0000 - val_accuracy: 0.9992 - val_precision: 0.7969 - val_recall: 0.6800 - val_auc: 0.8860 - val_prc: 0.6635\n",
            "Epoch 17/100\n",
            "90/90 [==============================] - 1s 11ms/step - loss: 0.0127 - tp: 102.3297 - fp: 19.0220 - tn: 93967.5165 - fn: 51.7033 - accuracy: 0.9993 - precision: 0.8317 - recall: 0.6542 - auc: 0.9195 - prc: 0.6411 - val_loss: 0.0042 - val_tp: 52.0000 - val_fp: 13.0000 - val_tn: 45481.0000 - val_fn: 23.0000 - val_accuracy: 0.9992 - val_precision: 0.8000 - val_recall: 0.6933 - val_auc: 0.8928 - val_prc: 0.6665\n",
            "Epoch 18/100\n",
            "90/90 [==============================] - 1s 11ms/step - loss: 0.0119 - tp: 105.0989 - fp: 22.9560 - tn: 93963.8791 - fn: 48.6374 - accuracy: 0.9993 - precision: 0.8287 - recall: 0.7010 - auc: 0.9243 - prc: 0.7009 - val_loss: 0.0041 - val_tp: 52.0000 - val_fp: 13.0000 - val_tn: 45481.0000 - val_fn: 23.0000 - val_accuracy: 0.9992 - val_precision: 0.8000 - val_recall: 0.6933 - val_auc: 0.8928 - val_prc: 0.6626\n",
            "Epoch 19/100\n",
            "90/90 [==============================] - 1s 11ms/step - loss: 0.0117 - tp: 112.1538 - fp: 18.4615 - tn: 93956.1538 - fn: 53.8022 - accuracy: 0.9992 - precision: 0.8386 - recall: 0.6605 - auc: 0.9080 - prc: 0.6471 - val_loss: 0.0042 - val_tp: 52.0000 - val_fp: 13.0000 - val_tn: 45481.0000 - val_fn: 23.0000 - val_accuracy: 0.9992 - val_precision: 0.8000 - val_recall: 0.6933 - val_auc: 0.8928 - val_prc: 0.6548\n",
            "Epoch 20/100\n",
            "90/90 [==============================] - 1s 11ms/step - loss: 0.0101 - tp: 105.7473 - fp: 13.9670 - tn: 93974.6264 - fn: 46.2308 - accuracy: 0.9994 - precision: 0.8634 - recall: 0.6970 - auc: 0.9353 - prc: 0.6934 - val_loss: 0.0041 - val_tp: 52.0000 - val_fp: 13.0000 - val_tn: 45481.0000 - val_fn: 23.0000 - val_accuracy: 0.9992 - val_precision: 0.8000 - val_recall: 0.6933 - val_auc: 0.8929 - val_prc: 0.6664\n",
            "Epoch 21/100\n",
            "90/90 [==============================] - 1s 11ms/step - loss: 0.0097 - tp: 119.4286 - fp: 16.4066 - tn: 93961.8681 - fn: 42.8681 - accuracy: 0.9994 - precision: 0.8929 - recall: 0.7658 - auc: 0.9546 - prc: 0.7487 - val_loss: 0.0041 - val_tp: 52.0000 - val_fp: 12.0000 - val_tn: 45482.0000 - val_fn: 23.0000 - val_accuracy: 0.9992 - val_precision: 0.8125 - val_recall: 0.6933 - val_auc: 0.8929 - val_prc: 0.6708\n",
            "Epoch 22/100\n",
            "90/90 [==============================] - 1s 11ms/step - loss: 0.0101 - tp: 116.6044 - fp: 16.5055 - tn: 93963.9451 - fn: 43.5165 - accuracy: 0.9994 - precision: 0.8731 - recall: 0.7270 - auc: 0.9206 - prc: 0.7400 - val_loss: 0.0041 - val_tp: 52.0000 - val_fp: 12.0000 - val_tn: 45482.0000 - val_fn: 23.0000 - val_accuracy: 0.9992 - val_precision: 0.8125 - val_recall: 0.6933 - val_auc: 0.8929 - val_prc: 0.6932\n",
            "Epoch 23/100\n",
            "90/90 [==============================] - 1s 10ms/step - loss: 0.0100 - tp: 106.1209 - fp: 18.3736 - tn: 93961.8791 - fn: 54.1978 - accuracy: 0.9992 - precision: 0.8378 - recall: 0.6515 - auc: 0.9171 - prc: 0.6638 - val_loss: 0.0040 - val_tp: 53.0000 - val_fp: 13.0000 - val_tn: 45481.0000 - val_fn: 22.0000 - val_accuracy: 0.9992 - val_precision: 0.8030 - val_recall: 0.7067 - val_auc: 0.8929 - val_prc: 0.6938\n",
            "Epoch 24/100\n",
            "90/90 [==============================] - 1s 11ms/step - loss: 0.0096 - tp: 103.1319 - fp: 21.0989 - tn: 93959.1209 - fn: 57.2198 - accuracy: 0.9991 - precision: 0.8374 - recall: 0.6398 - auc: 0.9223 - prc: 0.6730 - val_loss: 0.0040 - val_tp: 53.0000 - val_fp: 12.0000 - val_tn: 45482.0000 - val_fn: 22.0000 - val_accuracy: 0.9993 - val_precision: 0.8154 - val_recall: 0.7067 - val_auc: 0.8929 - val_prc: 0.6970\n",
            "Epoch 25/100\n",
            "90/90 [==============================] - 1s 11ms/step - loss: 0.0088 - tp: 123.1648 - fp: 17.4615 - tn: 93957.6374 - fn: 42.3077 - accuracy: 0.9994 - precision: 0.8832 - recall: 0.7602 - auc: 0.9333 - prc: 0.7644 - val_loss: 0.0040 - val_tp: 53.0000 - val_fp: 12.0000 - val_tn: 45482.0000 - val_fn: 22.0000 - val_accuracy: 0.9993 - val_precision: 0.8154 - val_recall: 0.7067 - val_auc: 0.8930 - val_prc: 0.7230\n",
            "Epoch 26/100\n",
            "90/90 [==============================] - 1s 11ms/step - loss: 0.0078 - tp: 101.5714 - fp: 17.1209 - tn: 93972.3956 - fn: 49.4835 - accuracy: 0.9993 - precision: 0.8316 - recall: 0.6999 - auc: 0.9426 - prc: 0.7303 - val_loss: 0.0040 - val_tp: 54.0000 - val_fp: 13.0000 - val_tn: 45481.0000 - val_fn: 21.0000 - val_accuracy: 0.9993 - val_precision: 0.8060 - val_recall: 0.7200 - val_auc: 0.8930 - val_prc: 0.7099\n",
            "Epoch 27/100\n",
            "90/90 [==============================] - 1s 10ms/step - loss: 0.0086 - tp: 109.0220 - fp: 16.1758 - tn: 93957.5604 - fn: 57.8132 - accuracy: 0.9992 - precision: 0.8864 - recall: 0.6614 - auc: 0.9170 - prc: 0.6978 - val_loss: 0.0040 - val_tp: 54.0000 - val_fp: 13.0000 - val_tn: 45481.0000 - val_fn: 21.0000 - val_accuracy: 0.9993 - val_precision: 0.8060 - val_recall: 0.7200 - val_auc: 0.8929 - val_prc: 0.6974\n",
            "Epoch 28/100\n",
            "90/90 [==============================] - 1s 11ms/step - loss: 0.0076 - tp: 121.2088 - fp: 14.4396 - tn: 93957.5714 - fn: 47.3516 - accuracy: 0.9994 - precision: 0.9038 - recall: 0.7264 - auc: 0.9457 - prc: 0.7767 - val_loss: 0.0040 - val_tp: 54.0000 - val_fp: 12.0000 - val_tn: 45482.0000 - val_fn: 21.0000 - val_accuracy: 0.9993 - val_precision: 0.8182 - val_recall: 0.7200 - val_auc: 0.8930 - val_prc: 0.7195\n",
            "Epoch 29/100\n",
            "90/90 [==============================] - 1s 11ms/step - loss: 0.0078 - tp: 115.5385 - fp: 16.0330 - tn: 93964.0769 - fn: 44.9231 - accuracy: 0.9994 - precision: 0.8911 - recall: 0.7381 - auc: 0.9313 - prc: 0.7390 - val_loss: 0.0040 - val_tp: 54.0000 - val_fp: 12.0000 - val_tn: 45482.0000 - val_fn: 21.0000 - val_accuracy: 0.9993 - val_precision: 0.8182 - val_recall: 0.7200 - val_auc: 0.8996 - val_prc: 0.7291\n",
            "Epoch 30/100\n",
            "90/90 [==============================] - 1s 11ms/step - loss: 0.0079 - tp: 112.0879 - fp: 17.4725 - tn: 93958.8462 - fn: 52.1648 - accuracy: 0.9993 - precision: 0.8626 - recall: 0.6790 - auc: 0.9300 - prc: 0.6996 - val_loss: 0.0039 - val_tp: 53.0000 - val_fp: 12.0000 - val_tn: 45482.0000 - val_fn: 22.0000 - val_accuracy: 0.9993 - val_precision: 0.8154 - val_recall: 0.7067 - val_auc: 0.8996 - val_prc: 0.7463\n",
            "Epoch 31/100\n",
            "90/90 [==============================] - 1s 10ms/step - loss: 0.0077 - tp: 105.7912 - fp: 11.5824 - tn: 93968.4945 - fn: 54.7033 - accuracy: 0.9993 - precision: 0.9036 - recall: 0.6318 - auc: 0.9270 - prc: 0.6892 - val_loss: 0.0040 - val_tp: 54.0000 - val_fp: 12.0000 - val_tn: 45482.0000 - val_fn: 21.0000 - val_accuracy: 0.9993 - val_precision: 0.8182 - val_recall: 0.7200 - val_auc: 0.8996 - val_prc: 0.7216\n",
            "Epoch 32/100\n",
            "90/90 [==============================] - 1s 11ms/step - loss: 0.0073 - tp: 107.7253 - fp: 16.3297 - tn: 93961.2088 - fn: 55.3077 - accuracy: 0.9992 - precision: 0.8267 - recall: 0.6266 - auc: 0.9370 - prc: 0.6998 - val_loss: 0.0040 - val_tp: 54.0000 - val_fp: 12.0000 - val_tn: 45482.0000 - val_fn: 21.0000 - val_accuracy: 0.9993 - val_precision: 0.8182 - val_recall: 0.7200 - val_auc: 0.8996 - val_prc: 0.7292\n",
            "Epoch 33/100\n",
            "90/90 [==============================] - 1s 11ms/step - loss: 0.0066 - tp: 112.2637 - fp: 15.2527 - tn: 93967.7363 - fn: 45.3187 - accuracy: 0.9994 - precision: 0.8630 - recall: 0.7248 - auc: 0.9315 - prc: 0.7029 - val_loss: 0.0039 - val_tp: 54.0000 - val_fp: 12.0000 - val_tn: 45482.0000 - val_fn: 21.0000 - val_accuracy: 0.9993 - val_precision: 0.8182 - val_recall: 0.7200 - val_auc: 0.8930 - val_prc: 0.7389\n",
            "Epoch 34/100\n",
            "90/90 [==============================] - 1s 11ms/step - loss: 0.0072 - tp: 110.4615 - fp: 18.3077 - tn: 93957.0989 - fn: 54.7033 - accuracy: 0.9992 - precision: 0.8484 - recall: 0.6705 - auc: 0.9251 - prc: 0.7085 - val_loss: 0.0040 - val_tp: 55.0000 - val_fp: 12.0000 - val_tn: 45482.0000 - val_fn: 20.0000 - val_accuracy: 0.9993 - val_precision: 0.8209 - val_recall: 0.7333 - val_auc: 0.8930 - val_prc: 0.7300\n",
            "Epoch 35/100\n",
            "90/90 [==============================] - 1s 11ms/step - loss: 0.0067 - tp: 113.9780 - fp: 18.6703 - tn: 93958.3297 - fn: 49.5934 - accuracy: 0.9993 - precision: 0.8510 - recall: 0.6883 - auc: 0.9387 - prc: 0.7397 - val_loss: 0.0040 - val_tp: 55.0000 - val_fp: 12.0000 - val_tn: 45482.0000 - val_fn: 20.0000 - val_accuracy: 0.9993 - val_precision: 0.8209 - val_recall: 0.7333 - val_auc: 0.8996 - val_prc: 0.7331\n",
            "Epoch 36/100\n",
            "90/90 [==============================] - 1s 11ms/step - loss: 0.0066 - tp: 108.1868 - fp: 17.5714 - tn: 93968.5055 - fn: 46.3077 - accuracy: 0.9993 - precision: 0.8731 - recall: 0.7011 - auc: 0.9268 - prc: 0.7296 - val_loss: 0.0039 - val_tp: 55.0000 - val_fp: 12.0000 - val_tn: 45482.0000 - val_fn: 20.0000 - val_accuracy: 0.9993 - val_precision: 0.8209 - val_recall: 0.7333 - val_auc: 0.8996 - val_prc: 0.7333\n",
            "Epoch 37/100\n",
            "90/90 [==============================] - 1s 10ms/step - loss: 0.0071 - tp: 111.1209 - fp: 16.7692 - tn: 93961.3077 - fn: 51.3736 - accuracy: 0.9993 - precision: 0.8808 - recall: 0.6663 - auc: 0.9207 - prc: 0.7088 - val_loss: 0.0039 - val_tp: 55.0000 - val_fp: 12.0000 - val_tn: 45482.0000 - val_fn: 20.0000 - val_accuracy: 0.9993 - val_precision: 0.8209 - val_recall: 0.7333 - val_auc: 0.9063 - val_prc: 0.7408\n",
            "Epoch 38/100\n",
            "90/90 [==============================] - 1s 11ms/step - loss: 0.0058 - tp: 107.6923 - fp: 17.5714 - tn: 93965.2747 - fn: 50.0330 - accuracy: 0.9993 - precision: 0.8654 - recall: 0.6963 - auc: 0.9411 - prc: 0.7455 - val_loss: 0.0039 - val_tp: 55.0000 - val_fp: 12.0000 - val_tn: 45482.0000 - val_fn: 20.0000 - val_accuracy: 0.9993 - val_precision: 0.8209 - val_recall: 0.7333 - val_auc: 0.9063 - val_prc: 0.7432\n",
            "Epoch 39/100\n",
            "90/90 [==============================] - 1s 11ms/step - loss: 0.0061 - tp: 116.1319 - fp: 19.7582 - tn: 93950.6264 - fn: 54.0549 - accuracy: 0.9992 - precision: 0.8489 - recall: 0.6773 - auc: 0.9407 - prc: 0.7248 - val_loss: 0.0039 - val_tp: 55.0000 - val_fp: 11.0000 - val_tn: 45483.0000 - val_fn: 20.0000 - val_accuracy: 0.9993 - val_precision: 0.8333 - val_recall: 0.7333 - val_auc: 0.9063 - val_prc: 0.7622\n",
            "Epoch 40/100\n",
            "90/90 [==============================] - 1s 11ms/step - loss: 0.0060 - tp: 108.3846 - fp: 14.5934 - tn: 93962.6484 - fn: 54.9451 - accuracy: 0.9993 - precision: 0.8869 - recall: 0.6682 - auc: 0.9365 - prc: 0.7259 - val_loss: 0.0039 - val_tp: 55.0000 - val_fp: 12.0000 - val_tn: 45482.0000 - val_fn: 20.0000 - val_accuracy: 0.9993 - val_precision: 0.8209 - val_recall: 0.7333 - val_auc: 0.8997 - val_prc: 0.7475\n",
            "Epoch 41/100\n",
            "90/90 [==============================] - 1s 10ms/step - loss: 0.0055 - tp: 115.3187 - fp: 15.2857 - tn: 93960.0440 - fn: 49.9231 - accuracy: 0.9993 - precision: 0.8822 - recall: 0.6980 - auc: 0.9535 - prc: 0.7714 - val_loss: 0.0039 - val_tp: 55.0000 - val_fp: 12.0000 - val_tn: 45482.0000 - val_fn: 20.0000 - val_accuracy: 0.9993 - val_precision: 0.8209 - val_recall: 0.7333 - val_auc: 0.8997 - val_prc: 0.7590\n",
            "Epoch 42/100\n",
            "90/90 [==============================] - 1s 11ms/step - loss: 0.0053 - tp: 120.7363 - fp: 18.7473 - tn: 93954.9890 - fn: 46.0989 - accuracy: 0.9993 - precision: 0.8633 - recall: 0.7307 - auc: 0.9353 - prc: 0.7637 - val_loss: 0.0039 - val_tp: 55.0000 - val_fp: 12.0000 - val_tn: 45482.0000 - val_fn: 20.0000 - val_accuracy: 0.9993 - val_precision: 0.8209 - val_recall: 0.7333 - val_auc: 0.9063 - val_prc: 0.7604\n",
            "Epoch 43/100\n",
            "90/90 [==============================] - 1s 11ms/step - loss: 0.0050 - tp: 118.7253 - fp: 20.3187 - tn: 93954.8242 - fn: 46.7033 - accuracy: 0.9993 - precision: 0.8575 - recall: 0.7472 - auc: 0.9520 - prc: 0.7841 - val_loss: 0.0039 - val_tp: 55.0000 - val_fp: 12.0000 - val_tn: 45482.0000 - val_fn: 20.0000 - val_accuracy: 0.9993 - val_precision: 0.8209 - val_recall: 0.7333 - val_auc: 0.9063 - val_prc: 0.7595\n",
            "Epoch 44/100\n",
            "90/90 [==============================] - 1s 10ms/step - loss: 0.0057 - tp: 106.0879 - fp: 21.1538 - tn: 93961.8022 - fn: 51.5275 - accuracy: 0.9992 - precision: 0.8143 - recall: 0.6632 - auc: 0.9371 - prc: 0.7059 - val_loss: 0.0039 - val_tp: 55.0000 - val_fp: 12.0000 - val_tn: 45482.0000 - val_fn: 20.0000 - val_accuracy: 0.9993 - val_precision: 0.8209 - val_recall: 0.7333 - val_auc: 0.9063 - val_prc: 0.7517\n",
            "Epoch 45/100\n",
            "90/90 [==============================] - 1s 10ms/step - loss: 0.0051 - tp: 113.2967 - fp: 19.9670 - tn: 93959.1978 - fn: 48.1099 - accuracy: 0.9993 - precision: 0.8452 - recall: 0.7137 - auc: 0.9467 - prc: 0.7515 - val_loss: 0.0039 - val_tp: 55.0000 - val_fp: 13.0000 - val_tn: 45481.0000 - val_fn: 20.0000 - val_accuracy: 0.9993 - val_precision: 0.8088 - val_recall: 0.7333 - val_auc: 0.9063 - val_prc: 0.7509\n",
            "Epoch 46/100\n",
            "90/90 [==============================] - 1s 11ms/step - loss: 0.0051 - tp: 106.5824 - fp: 19.2857 - tn: 93963.5275 - fn: 51.1758 - accuracy: 0.9993 - precision: 0.8676 - recall: 0.6750 - auc: 0.9430 - prc: 0.7505 - val_loss: 0.0040 - val_tp: 55.0000 - val_fp: 12.0000 - val_tn: 45482.0000 - val_fn: 20.0000 - val_accuracy: 0.9993 - val_precision: 0.8209 - val_recall: 0.7333 - val_auc: 0.9063 - val_prc: 0.7552\n",
            "Epoch 47/100\n",
            "90/90 [==============================] - 1s 11ms/step - loss: 0.0052 - tp: 111.7473 - fp: 17.6484 - tn: 93961.4505 - fn: 49.7253 - accuracy: 0.9993 - precision: 0.8798 - recall: 0.6986 - auc: 0.9386 - prc: 0.7470 - val_loss: 0.0039 - val_tp: 55.0000 - val_fp: 12.0000 - val_tn: 45482.0000 - val_fn: 20.0000 - val_accuracy: 0.9993 - val_precision: 0.8209 - val_recall: 0.7333 - val_auc: 0.9129 - val_prc: 0.7520\n",
            "Epoch 48/100\n",
            "90/90 [==============================] - 1s 11ms/step - loss: 0.0046 - tp: 109.2088 - fp: 18.0330 - tn: 93964.1209 - fn: 49.2088 - accuracy: 0.9993 - precision: 0.8536 - recall: 0.7043 - auc: 0.9608 - prc: 0.7643 - val_loss: 0.0039 - val_tp: 55.0000 - val_fp: 12.0000 - val_tn: 45482.0000 - val_fn: 20.0000 - val_accuracy: 0.9993 - val_precision: 0.8209 - val_recall: 0.7333 - val_auc: 0.9129 - val_prc: 0.7500\n",
            "Epoch 49/100\n",
            "90/90 [==============================] - 1s 10ms/step - loss: 0.0048 - tp: 117.6044 - fp: 14.8352 - tn: 93965.3956 - fn: 42.7363 - accuracy: 0.9994 - precision: 0.8962 - recall: 0.7261 - auc: 0.9479 - prc: 0.7843 - val_loss: 0.0039 - val_tp: 55.0000 - val_fp: 12.0000 - val_tn: 45482.0000 - val_fn: 20.0000 - val_accuracy: 0.9993 - val_precision: 0.8209 - val_recall: 0.7333 - val_auc: 0.9130 - val_prc: 0.7595\n",
            "Restoring model weights from the end of the best epoch.\n",
            "Epoch 00049: early stopping\n"
          ],
          "name": "stdout"
        }
      ]
    },
    {
      "cell_type": "code",
      "metadata": {
        "colab": {
          "base_uri": "https://localhost:8080/",
          "height": 610
        },
        "id": "shYnFYj8p9L1",
        "outputId": "06680041-14e1-41e4-da80-ef8bf3b9f4b6"
      },
      "source": [
        "def plot_metrics(history):\n",
        "  metrics = ['loss', 'prc', 'precision', 'recall']\n",
        "  for n, metric in enumerate(metrics):\n",
        "    name = metric.replace(\"_\",\" \").capitalize()\n",
        "    plt.subplot(2,2,n+1)\n",
        "    plt.plot(history.epoch, history.history[metric], color=colors[0], label='Train')\n",
        "    plt.plot(history.epoch, history.history['val_'+metric],\n",
        "             color=colors[0], linestyle=\"--\", label='Val')\n",
        "    plt.xlabel('Epoch')\n",
        "    plt.ylabel(name)\n",
        "    if metric == 'loss':\n",
        "      plt.ylim([0, plt.ylim()[1]])\n",
        "    elif metric == 'auc':\n",
        "      plt.ylim([0.8,1])\n",
        "    else:\n",
        "      plt.ylim([0,1])\n",
        "\n",
        "    plt.legend()\n",
        "plot_metrics(baseline_history)"
      ],
      "execution_count": 122,
      "outputs": [
        {
          "output_type": "display_data",
          "data": {
            "image/png": "[encoded data removed]",
            "text/plain": [
              "<Figure size 864x720 with 4 Axes>"
            ]
          },
          "metadata": {
            "tags": [],
            "needs_background": "light"
          }
        }
      ]
    },
    {
      "cell_type": "code",
      "metadata": {
        "colab": {
          "base_uri": "https://localhost:8080/",
          "height": 622
        },
        "id": "RaAsD7ayqJZz",
        "outputId": "aeb62596-2aeb-4c51-d959-c808562660e6"
      },
      "source": [
        "train_predictions_baseline = model.predict(train_features, batch_size=BATCH_SIZE)\n",
        "test_predictions_baseline = model.predict(test_features, batch_size=BATCH_SIZE)\n",
        "def plot_cm(labels, predictions, p=0.5):\n",
        "  cm = confusion_matrix(labels, predictions > p)\n",
        "  plt.figure(figsize=(5,5))\n",
        "  sns.heatmap(cm, annot=True, fmt=\"d\")\n",
        "  plt.title('Confusion matrix @{:.2f}'.format(p))\n",
        "  plt.ylabel('Actual label')\n",
        "  plt.xlabel('Predicted label')\n",
        "\n",
        "  print('Legitimate Transactions Detected (True Negatives): ', cm[0][0])\n",
        "  print('Legitimate Transactions Incorrectly Detected (False Positives): ', cm[0][1])\n",
        "  print('Fraudulent Transactions Missed (False Negatives): ', cm[1][0])\n",
        "  print('Fraudulent Transactions Detected (True Positives): ', cm[1][1])\n",
        "  print('Total Fraudulent Transactions: ', np.sum(cm[1]))\n",
        "\n",
        "baseline_results = model.evaluate(test_features, test_labels,\n",
        "                                  batch_size=BATCH_SIZE, verbose=0)\n",
        "for name, value in zip(model.metrics_names, baseline_results):\n",
        "  print(name, ': ', value)\n",
        "print()\n",
        "\n",
        "plot_cm(test_labels, test_predictions_baseline)"
      ],
      "execution_count": 125,
      "outputs": [
        {
          "output_type": "stream",
          "text": [
            "loss :  0.004249707330018282\n",
            "tp :  75.0\n",
            "fp :  13.0\n",
            "tn :  56848.0\n",
            "fn :  26.0\n",
            "accuracy :  0.9993153214454651\n",
            "precision :  0.8522727489471436\n",
            "recall :  0.7425742745399475\n",
            "auc :  0.9155665636062622\n",
            "prc :  0.780822217464447\n",
            "\n",
            "Legitimate Transactions Detected (True Negatives):  56848\n",
            "Legitimate Transactions Incorrectly Detected (False Positives):  13\n",
            "Fraudulent Transactions Missed (False Negatives):  26\n",
            "Fraudulent Transactions Detected (True Positives):  75\n",
            "Total Fraudulent Transactions:  101\n"
          ],
          "name": "stdout"
        },
        {
          "output_type": "display_data",
          "data": {
            "image/png": "[encoded data removed]",
            "text/plain": [
              "<Figure size 360x360 with 2 Axes>"
            ]
          },
          "metadata": {
            "tags": [],
            "needs_background": "light"
          }
        }
      ]
    },
    {
      "cell_type": "code",
      "metadata": {
        "colab": {
          "base_uri": "https://localhost:8080/",
          "height": 1000
        },
        "id": "HehNmm0gqepw",
        "outputId": "8ff85b81-44e9-4386-bfec-29ba4a4f07ca"
      },
      "source": [
        "neg, pos = np.bincount(raw_df['Class'])\n",
        "total = neg + pos\n",
        "weight_for_0 = (1 / neg)*(total)/2.0 \n",
        "weight_for_1 = (1 / pos)*(total)/2.0\n",
        "\n",
        "class_weight = {0: weight_for_0, 1: weight_for_1}\n",
        "\n",
        "print('Weight for class 0: {:.2f}'.format(weight_for_0))\n",
        "print('Weight for class 1: {:.2f}'.format(weight_for_1))\n",
        "weighted_model = make_model()\n",
        "weighted_model.load_weights(initial_weights)\n",
        "\n",
        "weighted_history = weighted_model.fit(\n",
        "    train_features,\n",
        "    train_labels,\n",
        "    batch_size=BATCH_SIZE,\n",
        "    epochs=EPOCHS,\n",
        "    callbacks=[early_stopping],\n",
        "    validation_data=(val_features, val_labels),\n",
        "    class_weight=class_weight)\n",
        "\n",
        "plot_metrics(weighted_history)\n",
        "train_predictions_weighted = weighted_model.predict(train_features, batch_size=BATCH_SIZE)\n",
        "test_predictions_weighted = weighted_model.predict(test_features, batch_size=BATCH_SIZE)\n",
        "weighted_results = weighted_model.evaluate(test_features, test_labels,\n",
        "                                           batch_size=BATCH_SIZE, verbose=0)\n",
        "for name, value in zip(weighted_model.metrics_names, weighted_results):\n",
        "  print(name, ': ', value)\n",
        "print()\n",
        "\n",
        "plot_cm(test_labels, test_predictions_weighted)"
      ],
      "execution_count": 128,
      "outputs": [
        {
          "output_type": "stream",
          "text": [
            "Weight for class 0: 0.50\n",
            "Weight for class 1: 289.44\n",
            "Epoch 1/100\n",
            "90/90 [==============================] - 4s 22ms/step - loss: 0.9108 - tp: 174.0549 - fp: 17967.7253 - tn: 132869.2198 - fn: 91.5714 - accuracy: 0.8932 - precision: 0.0155 - recall: 0.6522 - auc: 0.8178 - prc: 0.1161 - val_loss: 0.3755 - val_tp: 62.0000 - val_fp: 3406.0000 - val_tn: 42088.0000 - val_fn: 13.0000 - val_accuracy: 0.9250 - val_precision: 0.0179 - val_recall: 0.8267 - val_auc: 0.9121 - val_prc: 0.5136\n",
            "Epoch 2/100\n",
            "90/90 [==============================] - 1s 11ms/step - loss: 0.4053 - tp: 137.3077 - fp: 16192.0769 - tn: 77783.0879 - fn: 28.0989 - accuracy: 0.8235 - precision: 0.0085 - recall: 0.8422 - auc: 0.8986 - prc: 0.4398 - val_loss: 0.3170 - val_tp: 64.0000 - val_fp: 1537.0000 - val_tn: 43957.0000 - val_fn: 11.0000 - val_accuracy: 0.9660 - val_precision: 0.0400 - val_recall: 0.8533 - val_auc: 0.9262 - val_prc: 0.5851\n",
            "Epoch 3/100\n",
            "90/90 [==============================] - 1s 10ms/step - loss: 0.3831 - tp: 141.6374 - fp: 11577.7033 - tn: 82393.5165 - fn: 27.7143 - accuracy: 0.8746 - precision: 0.0119 - recall: 0.8273 - auc: 0.8993 - prc: 0.5044 - val_loss: 0.2743 - val_tp: 65.0000 - val_fp: 807.0000 - val_tn: 44687.0000 - val_fn: 10.0000 - val_accuracy: 0.9821 - val_precision: 0.0745 - val_recall: 0.8667 - val_auc: 0.9359 - val_prc: 0.6121\n",
            "Epoch 4/100\n",
            "90/90 [==============================] - 1s 10ms/step - loss: 0.3123 - tp: 130.5604 - fp: 8331.5495 - tn: 85652.4725 - fn: 25.9890 - accuracy: 0.9091 - precision: 0.0146 - recall: 0.8409 - auc: 0.9145 - prc: 0.5840 - val_loss: 0.2434 - val_tp: 65.0000 - val_fp: 588.0000 - val_tn: 44906.0000 - val_fn: 10.0000 - val_accuracy: 0.9869 - val_precision: 0.0995 - val_recall: 0.8667 - val_auc: 0.9463 - val_prc: 0.6235\n",
            "Epoch 5/100\n",
            "90/90 [==============================] - 1s 10ms/step - loss: 0.3179 - tp: 136.6374 - fp: 6485.0330 - tn: 87493.4835 - fn: 25.4176 - accuracy: 0.9293 - precision: 0.0199 - recall: 0.8391 - auc: 0.9198 - prc: 0.5673 - val_loss: 0.2164 - val_tp: 65.0000 - val_fp: 512.0000 - val_tn: 44982.0000 - val_fn: 10.0000 - val_accuracy: 0.9885 - val_precision: 0.1127 - val_recall: 0.8667 - val_auc: 0.9543 - val_prc: 0.6370\n",
            "Epoch 6/100\n",
            "90/90 [==============================] - 1s 10ms/step - loss: 0.2720 - tp: 144.1648 - fp: 4999.7912 - tn: 88972.6484 - fn: 23.9670 - accuracy: 0.9451 - precision: 0.0291 - recall: 0.8610 - auc: 0.9488 - prc: 0.6258 - val_loss: 0.1928 - val_tp: 65.0000 - val_fp: 509.0000 - val_tn: 44985.0000 - val_fn: 10.0000 - val_accuracy: 0.9886 - val_precision: 0.1132 - val_recall: 0.8667 - val_auc: 0.9593 - val_prc: 0.6519\n",
            "Epoch 7/100\n",
            "90/90 [==============================] - 1s 10ms/step - loss: 0.2399 - tp: 143.4835 - fp: 3970.6484 - tn: 90003.2198 - fn: 23.2198 - accuracy: 0.9573 - precision: 0.0363 - recall: 0.8808 - auc: 0.9480 - prc: 0.6993 - val_loss: 0.1782 - val_tp: 65.0000 - val_fp: 522.0000 - val_tn: 44972.0000 - val_fn: 10.0000 - val_accuracy: 0.9883 - val_precision: 0.1107 - val_recall: 0.8667 - val_auc: 0.9618 - val_prc: 0.6526\n",
            "Epoch 8/100\n",
            "90/90 [==============================] - 1s 11ms/step - loss: 0.2356 - tp: 142.8571 - fp: 3390.8681 - tn: 90587.6813 - fn: 19.1648 - accuracy: 0.9631 - precision: 0.0405 - recall: 0.8853 - auc: 0.9485 - prc: 0.6634 - val_loss: 0.1626 - val_tp: 65.0000 - val_fp: 516.0000 - val_tn: 44978.0000 - val_fn: 10.0000 - val_accuracy: 0.9885 - val_precision: 0.1119 - val_recall: 0.8667 - val_auc: 0.9638 - val_prc: 0.6548\n",
            "Epoch 9/100\n",
            "90/90 [==============================] - 1s 10ms/step - loss: 0.2466 - tp: 133.4615 - fp: 2994.9451 - tn: 90986.5824 - fn: 25.5824 - accuracy: 0.9679 - precision: 0.0401 - recall: 0.8277 - auc: 0.9512 - prc: 0.6071 - val_loss: 0.1565 - val_tp: 66.0000 - val_fp: 562.0000 - val_tn: 44932.0000 - val_fn: 9.0000 - val_accuracy: 0.9875 - val_precision: 0.1051 - val_recall: 0.8800 - val_auc: 0.9672 - val_prc: 0.6593\n",
            "Epoch 10/100\n",
            "90/90 [==============================] - 1s 10ms/step - loss: 0.2509 - tp: 148.7582 - fp: 2948.7802 - tn: 91019.5604 - fn: 23.4725 - accuracy: 0.9683 - precision: 0.0482 - recall: 0.8511 - auc: 0.9515 - prc: 0.6687 - val_loss: 0.1516 - val_tp: 66.0000 - val_fp: 621.0000 - val_tn: 44873.0000 - val_fn: 9.0000 - val_accuracy: 0.9862 - val_precision: 0.0961 - val_recall: 0.8800 - val_auc: 0.9697 - val_prc: 0.6594\n",
            "Epoch 11/100\n",
            "90/90 [==============================] - 1s 10ms/step - loss: 0.1796 - tp: 142.9560 - fp: 2832.7582 - tn: 91148.2088 - fn: 16.6484 - accuracy: 0.9693 - precision: 0.0483 - recall: 0.9087 - auc: 0.9730 - prc: 0.7235 - val_loss: 0.1428 - val_tp: 66.0000 - val_fp: 641.0000 - val_tn: 44853.0000 - val_fn: 9.0000 - val_accuracy: 0.9857 - val_precision: 0.0934 - val_recall: 0.8800 - val_auc: 0.9707 - val_prc: 0.6535\n",
            "Epoch 12/100\n",
            "90/90 [==============================] - 1s 11ms/step - loss: 0.1817 - tp: 143.5385 - fp: 2758.0659 - tn: 91220.2198 - fn: 18.7473 - accuracy: 0.9705 - precision: 0.0506 - recall: 0.8935 - auc: 0.9788 - prc: 0.6228 - val_loss: 0.1354 - val_tp: 66.0000 - val_fp: 661.0000 - val_tn: 44833.0000 - val_fn: 9.0000 - val_accuracy: 0.9853 - val_precision: 0.0908 - val_recall: 0.8800 - val_auc: 0.9723 - val_prc: 0.6546\n",
            "Epoch 13/100\n",
            "90/90 [==============================] - 1s 10ms/step - loss: 0.2254 - tp: 143.2747 - fp: 2719.1758 - tn: 91256.7143 - fn: 21.4066 - accuracy: 0.9708 - precision: 0.0481 - recall: 0.8406 - auc: 0.9608 - prc: 0.5859 - val_loss: 0.1332 - val_tp: 66.0000 - val_fp: 708.0000 - val_tn: 44786.0000 - val_fn: 9.0000 - val_accuracy: 0.9843 - val_precision: 0.0853 - val_recall: 0.8800 - val_auc: 0.9726 - val_prc: 0.6479\n",
            "Epoch 14/100\n",
            "90/90 [==============================] - 1s 10ms/step - loss: 0.1484 - tp: 144.4725 - fp: 2567.9670 - tn: 91415.5055 - fn: 12.6264 - accuracy: 0.9722 - precision: 0.0510 - recall: 0.9343 - auc: 0.9789 - prc: 0.6949 - val_loss: 0.1273 - val_tp: 66.0000 - val_fp: 714.0000 - val_tn: 44780.0000 - val_fn: 9.0000 - val_accuracy: 0.9841 - val_precision: 0.0846 - val_recall: 0.8800 - val_auc: 0.9735 - val_prc: 0.6488\n",
            "Epoch 15/100\n",
            "90/90 [==============================] - 1s 11ms/step - loss: 0.1701 - tp: 137.5385 - fp: 2567.6044 - tn: 91416.4615 - fn: 18.9670 - accuracy: 0.9726 - precision: 0.0512 - recall: 0.8837 - auc: 0.9781 - prc: 0.6434 - val_loss: 0.1217 - val_tp: 66.0000 - val_fp: 719.0000 - val_tn: 44775.0000 - val_fn: 9.0000 - val_accuracy: 0.9840 - val_precision: 0.0841 - val_recall: 0.8800 - val_auc: 0.9743 - val_prc: 0.6498\n",
            "Epoch 16/100\n",
            "90/90 [==============================] - 1s 11ms/step - loss: 0.1848 - tp: 145.2308 - fp: 2570.8352 - tn: 91407.4725 - fn: 17.0330 - accuracy: 0.9720 - precision: 0.0554 - recall: 0.8954 - auc: 0.9746 - prc: 0.6781 - val_loss: 0.1204 - val_tp: 66.0000 - val_fp: 726.0000 - val_tn: 44768.0000 - val_fn: 9.0000 - val_accuracy: 0.9839 - val_precision: 0.0833 - val_recall: 0.8800 - val_auc: 0.9745 - val_prc: 0.6499\n",
            "Epoch 17/100\n",
            "90/90 [==============================] - 1s 10ms/step - loss: 0.1471 - tp: 146.6484 - fp: 2513.2527 - tn: 91465.5934 - fn: 15.0769 - accuracy: 0.9730 - precision: 0.0558 - recall: 0.9203 - auc: 0.9855 - prc: 0.6648 - val_loss: 0.1160 - val_tp: 66.0000 - val_fp: 730.0000 - val_tn: 44764.0000 - val_fn: 9.0000 - val_accuracy: 0.9838 - val_precision: 0.0829 - val_recall: 0.8800 - val_auc: 0.9748 - val_prc: 0.6513\n",
            "Epoch 18/100\n",
            "90/90 [==============================] - 1s 11ms/step - loss: 0.1827 - tp: 139.5385 - fp: 2619.4286 - tn: 91364.3077 - fn: 17.2967 - accuracy: 0.9723 - precision: 0.0487 - recall: 0.8929 - auc: 0.9722 - prc: 0.6046 - val_loss: 0.1148 - val_tp: 67.0000 - val_fp: 735.0000 - val_tn: 44759.0000 - val_fn: 8.0000 - val_accuracy: 0.9837 - val_precision: 0.0835 - val_recall: 0.8933 - val_auc: 0.9755 - val_prc: 0.6510\n",
            "Epoch 19/100\n",
            "90/90 [==============================] - 1s 11ms/step - loss: 0.1620 - tp: 144.3516 - fp: 2510.9780 - tn: 91469.1648 - fn: 16.0769 - accuracy: 0.9730 - precision: 0.0544 - recall: 0.9060 - auc: 0.9810 - prc: 0.5986 - val_loss: 0.1109 - val_tp: 67.0000 - val_fp: 724.0000 - val_tn: 44770.0000 - val_fn: 8.0000 - val_accuracy: 0.9839 - val_precision: 0.0847 - val_recall: 0.8933 - val_auc: 0.9767 - val_prc: 0.6511\n",
            "Epoch 20/100\n",
            "90/90 [==============================] - 1s 11ms/step - loss: 0.1633 - tp: 151.4066 - fp: 2452.4505 - tn: 91522.0549 - fn: 14.6593 - accuracy: 0.9740 - precision: 0.0581 - recall: 0.9195 - auc: 0.9803 - prc: 0.6658 - val_loss: 0.1092 - val_tp: 67.0000 - val_fp: 752.0000 - val_tn: 44742.0000 - val_fn: 8.0000 - val_accuracy: 0.9833 - val_precision: 0.0818 - val_recall: 0.8933 - val_auc: 0.9773 - val_prc: 0.6436\n",
            "Restoring model weights from the end of the best epoch.\n",
            "Epoch 00020: early stopping\n",
            "loss :  0.15032818913459778\n",
            "tp :  85.0\n",
            "fp :  728.0\n",
            "tn :  56133.0\n",
            "fn :  16.0\n",
            "accuracy :  0.9869386553764343\n",
            "precision :  0.1045510470867157\n",
            "recall :  0.8415841460227966\n",
            "auc :  0.9494603276252747\n",
            "prc :  0.685690701007843\n",
            "\n",
            "Legitimate Transactions Detected (True Negatives):  56133\n",
            "Legitimate Transactions Incorrectly Detected (False Positives):  728\n",
            "Fraudulent Transactions Missed (False Negatives):  16\n",
            "Fraudulent Transactions Detected (True Positives):  85\n",
            "Total Fraudulent Transactions:  101\n"
          ],
          "name": "stdout"
        },
        {
          "output_type": "display_data",
          "data": {
            "image/png": "[encoded data removed]",
            "text/plain": [
              "<Figure size 864x720 with 4 Axes>"
            ]
          },
          "metadata": {
            "tags": [],
            "needs_background": "light"
          }
        },
        {
          "output_type": "display_data",
          "data": {
            "image/png": "[encoded data removed]",
            "text/plain": [
              "<Figure size 360x360 with 2 Axes>"
            ]
          },
          "metadata": {
            "tags": [],
            "needs_background": "light"
          }
        }
      ]
    },
    {
      "cell_type": "code",
      "metadata": {
        "colab": {
          "base_uri": "https://localhost:8080/"
        },
        "id": "KGIQgwZDS48e",
        "outputId": "069b6824-a58e-4f5e-f479-0d86847ed9e1"
      },
      "source": [
        "\n",
        "print(\"Accuracy of XG Boost =\", accuracy_score(y_test, xgb_yhat), \"with F1 Score =\", f1_score(y_test, xgb_yhat) )\n",
        "print(\"Accuracy of CLG =\", accuracy_score(y_test, clg_yhat), \"with F1 Score =\", f1_score(y_test, clg_yhat) )\n",
        "print(\"Accuracy of NKK =\", accuracy_score(y_test, knn_yhat), \"with F1 Score =\", f1_score(y_test, knn_yhat) )\n",
        "print(\"Accuracy of Lin. Reg =\", accuracy_score(y_test, lr_yhat), \"with F1 Score =\", f1_score(y_test, lr_yhat) )\n",
        "print(\"Accuracy of SVM =\", accuracy_score(y_test, svm_yhat), \"with F1 Score =\", f1_score(y_test, svm_yhat) )\n",
        "print(\"Accuracy of Decision Tree =\", accuracy_score(y_test, tree_knn_yhat), \"with F1 Score =\", f1_score(y_test, tree_knn_yhat) )\n",
        "print(\"Accuracy of Random Forest =\", accuracy_score(y_test, rf_yhat), \"with F1 Score =\", f1_score(y_test, rf_yhat) )\n"
      ],
      "execution_count": 106,
      "outputs": [
        {
          "output_type": "stream",
          "text": [
            "Accuracy of XG Boost = 0.9994733330992591 with F1 Score = 0.8421052631578948\n",
            "Accuracy of CLG = 0.9783364348161933 with F1 Score = 0.12233285917496445\n",
            "Accuracy of NKK = 0.999403110845827 with F1 Score = 0.8089887640449437\n",
            "Accuracy of Lin. Reg = 0.9992451107756047 with F1 Score = 0.7542857142857143\n",
            "Accuracy of SVM = 0.998735999438222 with F1 Score = 0.5\n",
            "Accuracy of Decision Tree = 0.9994557775359011 with F1 Score = 0.835978835978836\n",
            "Accuracy of Random Forest = 0.9990519995786665 with F1 Score = 0.674698795180723\n"
          ],
          "name": "stdout"
        }
      ]
    },
    {
      "cell_type": "code",
      "metadata": {
        "id": "c5jZf4s2pEL_"
      },
      "source": [
        ""
      ],
      "execution_count": null,
      "outputs": []
    },
    {
      "cell_type": "code",
      "metadata": {
        "id": "HzaQINGko5kX"
      },
      "source": [
        ""
      ],
      "execution_count": null,
      "outputs": []
    },
    {
      "cell_type": "code",
      "metadata": {
        "colab": {
          "base_uri": "https://localhost:8080/",
          "height": 1000
        },
        "id": "FvABPn7M_sv6",
        "outputId": "525ca8d0-3672-40bb-f599-213dfba1720e"
      },
      "source": [
        "xgb_matrix = confusion_matrix(y_test, xgb_yhat, labels = [0, 1])\n",
        "clg_matrix = confusion_matrix(y_test, clg_yhat, labels = [0, 1])\n",
        "knn_matrix = confusion_matrix(y_test, knn_yhat, labels = [0, 1])\n",
        "lr_matrix = confusion_matrix(y_test, lr_yhat, labels = [0, 1])\n",
        "svm_matrix = confusion_matrix(y_test, svm_yhat, labels = [0, 1])\n",
        "tree_matrix = confusion_matrix(y_test, tree_knn_yhat, labels = [0, 1])\n",
        "rf_matrix = confusion_matrix(y_test, rf_yhat, labels = [0, 1])\n",
        "\n",
        "plt.rcParams['figure.figsize'] = (6, 6)\n",
        "\n",
        "knn_cm_plot = plot_confusion_matrix(xgb_matrix, \n",
        "                                classes = ['Non-Default(0)','Default(1)'], \n",
        "                                normalize = False, title = 'XG Boost')\n",
        "\n",
        "plt.show()\n",
        "CLG_plot = plot_confusion_matrix(clg_matrix, \n",
        "                                classes = ['Non-Default(0)','Default(1)'], \n",
        "                                normalize = False, title = 'CLG')\n",
        "plt.show()\n",
        "knn_cm_plot = plot_confusion_matrix(knn_matrix, \n",
        "                                classes = ['Non-Default(0)','Default(1)'], \n",
        "                                normalize = False, title = '5/K-NN')\n",
        "plt.show()\n",
        "lreg_cm_plot = plot_confusion_matrix(lr_matrix, \n",
        "                                classes = ['Non-Default(0)','Default(1)'], \n",
        "                                normalize = False, title = 'Linear Reg.')\n",
        "plt.show()\n",
        "svm_cm_plot = plot_confusion_matrix(svm_matrix, \n",
        "                                classes = ['Non-Default(0)','Default(1)'], \n",
        "                                normalize = False, title = 'SVM')\n",
        "plt.show()\n",
        "dt_cm_plot = plot_confusion_matrix(tree_matrix, \n",
        "                                classes = ['Non-Default(0)','Default(1)'], \n",
        "                                normalize = False, title = 'Decision Tree')\n",
        "plt.show()\n",
        "rf_cm_plot = plot_confusion_matrix(rf_matrix, \n",
        "                                classes = ['Non-Default(0)','Default(1)'], \n",
        "                                normalize = False, title = 'Random Forest')\n",
        "\n",
        "plt.show()\n"
      ],
      "execution_count": 130,
      "outputs": [
        {
          "output_type": "display_data",
          "data": {
            "image/png": "[encoded data removed]",
            "text/plain": [
              "<Figure size 432x432 with 2 Axes>"
            ]
          },
          "metadata": {
            "tags": [],
            "needs_background": "light"
          }
        },
        {
          "output_type": "display_data",
          "data": {
            "image/png": "[encoded data removed]",
            "text/plain": [
              "<Figure size 432x432 with 2 Axes>"
            ]
          },
          "metadata": {
            "tags": [],
            "needs_background": "light"
          }
        },
        {
          "output_type": "display_data",
          "data": {
            "image/png": "[encoded data removed]",
            "text/plain": [
              "<Figure size 432x432 with 2 Axes>"
            ]
          },
          "metadata": {
            "tags": [],
            "needs_background": "light"
          }
        },
        {
          "output_type": "display_data",
          "data": {
            "image/png": "[encoded data removed]",
            "text/plain": [
              "<Figure size 432x432 with 2 Axes>"
            ]
          },
          "metadata": {
            "tags": [],
            "needs_background": "light"
          }
        },
        {
          "output_type": "display_data",
          "data": {
            "image/png": "[encoded data removed]",
            "text/plain": [
              "<Figure size 432x432 with 2 Axes>"
            ]
          },
          "metadata": {
            "tags": [],
            "needs_background": "light"
          }
        },
        {
          "output_type": "display_data",
          "data": {
            "image/png": "[encoded data removed]",
            "text/plain": [
              "<Figure size 432x432 with 2 Axes>"
            ]
          },
          "metadata": {
            "tags": [],
            "needs_background": "light"
          }
        },
        {
          "output_type": "display_data",
          "data": {
            "image/png": "[encoded data removed]",
            "text/plain": [
              "<Figure size 432x432 with 2 Axes>"
            ]
          },
          "metadata": {
            "tags": [],
            "needs_background": "light"
          }
        }
      ]
    },
    {
      "cell_type": "code",
      "metadata": {
        "id": "akwBVjbnS3ue"
      },
      "source": [
        ""
      ],
      "execution_count": null,
      "outputs": []
    },
    {
      "cell_type": "code",
      "metadata": {
        "id": "07a60bQ7_wed"
      },
      "source": [
        ""
      ],
      "execution_count": null,
      "outputs": []
    }
  ]
}