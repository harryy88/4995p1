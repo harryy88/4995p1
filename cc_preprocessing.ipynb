{
  "nbformat": 4,
  "nbformat_minor": 0,
  "metadata": {
    "colab": {
      "name": "cc_preprocessing.ipynb",
      "provenance": [],
      "include_colab_link": true
    },
    "kernelspec": {
      "name": "python3",
      "display_name": "Python 3"
    },
    "language_info": {
      "name": "python"
    }
  },
  "cells": [
    {
      "cell_type": "markdown",
      "metadata": {
        "id": "view-in-github",
        "colab_type": "text"
      },
      "source": [
        "<a href=\"https://colab.research.google.com/github/harryy88/4995p1/blob/main/cc_preprocessing.ipynb\" target=\"_parent\"><img src=\"https://colab.research.google.com/assets/colab-badge.svg\" alt=\"Open In Colab\"/></a>"
      ]
    },
    {
      "cell_type": "code",
      "metadata": {
        "id": "Jjr_7AgkI_A7"
      },
      "source": [
        "import matplotlib.image as mpimg\n",
        "import matplotlib.pyplot as plt\n",
        "import numpy as np\n",
        "import os\n",
        "import pickle\n",
        "import random\n",
        "import shutil\n",
        "import time\n",
        "import pandas as pd \n",
        "from google.colab import drive\n"
      ],
      "execution_count": null,
      "outputs": []
    },
    {
      "cell_type": "code",
      "metadata": {
        "colab": {
          "base_uri": "https://localhost:8080/"
        },
        "id": "9uHRmNDLJAtS",
        "outputId": "483afe23-052a-4582-80b8-827e0a777fc5"
      },
      "source": [
        "import tensorflow as tf\n",
        "print(\"done.\")"
      ],
      "execution_count": null,
      "outputs": [
        {
          "output_type": "stream",
          "text": [
            "done.\n"
          ],
          "name": "stdout"
        }
      ]
    },
    {
      "cell_type": "code",
      "metadata": {
        "colab": {
          "base_uri": "https://localhost:8080/"
        },
        "id": "E63Nd2YmJXIv",
        "outputId": "286f2327-0a3a-4ada-92aa-fbe9fb6fbf48"
      },
      "source": [
        " ! curl -L -O https://www.kaggle.com/mlg-ulb/creditcardfraud/download"
      ],
      "execution_count": null,
      "outputs": [
        {
          "output_type": "stream",
          "text": [
            "  % Total    % Received % Xferd  Average Speed   Time    Time     Time  Current\n",
            "                                 Dload  Upload   Total   Spent    Left  Speed\n",
            "  0     0    0     0    0     0      0      0 --:--:-- --:--:-- --:--:--     0\n",
            "100  6229    0  6229    0     0   8305      0 --:--:-- --:--:-- --:--:--  8305\n"
          ],
          "name": "stdout"
        }
      ]
    },
    {
      "cell_type": "code",
      "metadata": {
        "id": "iD5PXuL7JenQ"
      },
      "source": [
        "!unzip -q archive.zip "
      ],
      "execution_count": null,
      "outputs": []
    },
    {
      "cell_type": "code",
      "metadata": {
        "colab": {
          "base_uri": "https://localhost:8080/"
        },
        "id": "jKuT4kZHJg7i",
        "outputId": "f76c8eba-c844-4623-c58f-ed4680daabe8"
      },
      "source": [
        "!ls -lha\n",
        "!du -sh"
      ],
      "execution_count": null,
      "outputs": [
        {
          "output_type": "stream",
          "text": [
            "total 210M\n",
            "drwxr-xr-x 1 root root 4.0K Apr 29 18:30 .\n",
            "drwxr-xr-x 1 root root 4.0K Apr 29 18:19 ..\n",
            "-rw-r--r-- 1 root root  66M Apr 29 18:29 archive.zip\n",
            "drwxr-xr-x 4 root root 4.0K Apr 21 13:38 .config\n",
            "-rw-r--r-- 1 root root 144M Sep 20  2019 creditcard.csv\n",
            "-rw-r--r-- 1 root root 6.1K Apr 29 18:27 download\n",
            "drwxr-xr-x 2 root root 4.0K Apr 29 18:30 .ipynb_checkpoints\n",
            "drwxr-xr-x 1 root root 4.0K Apr 21 13:39 sample_data\n",
            "265M\t.\n"
          ],
          "name": "stdout"
        }
      ]
    },
    {
      "cell_type": "code",
      "metadata": {
        "colab": {
          "base_uri": "https://localhost:8080/"
        },
        "id": "jQ7qUPX0NEJ3",
        "outputId": "2eb60bae-29d5-4be4-c4cf-5d9535bd2bbf"
      },
      "source": [
        "!head creditcard.csv -n3 # take a look at a few rows"
      ],
      "execution_count": null,
      "outputs": [
        {
          "output_type": "stream",
          "text": [
            "\"Time\",\"V1\",\"V2\",\"V3\",\"V4\",\"V5\",\"V6\",\"V7\",\"V8\",\"V9\",\"V10\",\"V11\",\"V12\",\"V13\",\"V14\",\"V15\",\"V16\",\"V17\",\"V18\",\"V19\",\"V20\",\"V21\",\"V22\",\"V23\",\"V24\",\"V25\",\"V26\",\"V27\",\"V28\",\"Amount\",\"Class\"\n",
            "0,-1.3598071336738,-0.0727811733098497,2.53634673796914,1.37815522427443,-0.338320769942518,0.462387777762292,0.239598554061257,0.0986979012610507,0.363786969611213,0.0907941719789316,-0.551599533260813,-0.617800855762348,-0.991389847235408,-0.311169353699879,1.46817697209427,-0.470400525259478,0.207971241929242,0.0257905801985591,0.403992960255733,0.251412098239705,-0.018306777944153,0.277837575558899,-0.110473910188767,0.0669280749146731,0.128539358273528,-0.189114843888824,0.133558376740387,-0.0210530534538215,149.62,\"0\"\n",
            "0,1.19185711131486,0.26615071205963,0.16648011335321,0.448154078460911,0.0600176492822243,-0.0823608088155687,-0.0788029833323113,0.0851016549148104,-0.255425128109186,-0.166974414004614,1.61272666105479,1.06523531137287,0.48909501589608,-0.143772296441519,0.635558093258208,0.463917041022171,-0.114804663102346,-0.183361270123994,-0.145783041325259,-0.0690831352230203,-0.225775248033138,-0.638671952771851,0.101288021253234,-0.339846475529127,0.167170404418143,0.125894532368176,-0.00898309914322813,0.0147241691924927,2.69,\"0\"\n"
          ],
          "name": "stdout"
        }
      ]
    },
    {
      "cell_type": "code",
      "metadata": {
        "colab": {
          "base_uri": "https://localhost:8080/"
        },
        "id": "Wkm3Sco7NFqc",
        "outputId": "3877502a-034b-4d7b-da16-09483c904c8f"
      },
      "source": [
        "!wc -l creditcard.csv"
      ],
      "execution_count": null,
      "outputs": [
        {
          "output_type": "stream",
          "text": [
            "284808 creditcard.csv\n"
          ],
          "name": "stdout"
        }
      ]
    },
    {
      "cell_type": "code",
      "metadata": {
        "id": "PReBzheJNuyY"
      },
      "source": [
        "df = pd.read_csv('creditcard.csv')\n",
        "df.pop('Time')\n",
        "eps = 0.001 # 0 => 0.1¢\n",
        "df['Log Ammount'] = np.log(df.pop('Amount')+eps)\n",
        "\n",
        "df.to_csv(\"processed_creditcards.csv\", sep=',')"
      ],
      "execution_count": null,
      "outputs": []
    },
    {
      "cell_type": "code",
      "metadata": {
        "colab": {
          "base_uri": "https://localhost:8080/"
        },
        "id": "qBAQ-b8O6ro4",
        "outputId": "13261bec-dc72-4d8f-b6dc-9d2431f51cdc"
      },
      "source": [
        "!head -n4 processed_creditcards.csv"
      ],
      "execution_count": null,
      "outputs": [
        {
          "output_type": "stream",
          "text": [
            ",V1,V2,V3,V4,V5,V6,V7,V8,V9,V10,V11,V12,V13,V14,V15,V16,V17,V18,V19,V20,V21,V22,V23,V24,V25,V26,V27,V28,Class,Log Ammount\n",
            "0,-1.3598071336738,-0.0727811733098497,2.53634673796914,1.37815522427443,-0.33832076994251803,0.462387777762292,0.239598554061257,0.0986979012610507,0.363786969611213,0.0907941719789316,-0.551599533260813,-0.617800855762348,-0.991389847235408,-0.31116935369987897,1.46817697209427,-0.47040052525947795,0.20797124192924202,0.0257905801985591,0.403992960255733,0.251412098239705,-0.018306777944153,0.277837575558899,-0.110473910188767,0.0669280749146731,0.12853935827352803,-0.189114843888824,0.13355837674038698,-0.0210530534538215,0,5.008105430020374\n",
            "1,1.1918571113148602,0.26615071205963,0.16648011335321,0.448154078460911,0.0600176492822243,-0.0823608088155687,-0.0788029833323113,0.0851016549148104,-0.255425128109186,-0.16697441400461402,1.6127266610547901,1.06523531137287,0.48909501589608,-0.143772296441519,0.635558093258208,0.463917041022171,-0.114804663102346,-0.18336127012399397,-0.14578304132525902,-0.0690831352230203,-0.225775248033138,-0.6386719527718511,0.10128802125323402,-0.33984647552912706,0.167170404418143,0.125894532368176,-0.00898309914322813,0.0147241691924927,0,0.9899128717447687\n",
            "2,-1.35835406159823,-1.3401630747360902,1.77320934263119,0.3797795930343279,-0.503198133318193,1.80049938079263,0.7914609564504219,0.24767578658899103,-1.5146543226058302,0.207642865216696,0.6245014594248951,0.06608368526883099,0.7172927314108309,-0.165945922763554,2.34586494901581,-2.8900831944423104,1.10996937869599,-0.12135931319588801,-2.26185709530414,0.524979725224404,0.247998153469754,0.771679401917229,0.9094122623477191,-0.689280956490685,-0.3276418337352511,-0.139096571514147,-0.0553527940384261,-0.0597518405929204,0,5.936641345712281\n"
          ],
          "name": "stdout"
        }
      ]
    },
    {
      "cell_type": "code",
      "metadata": {
        "colab": {
          "base_uri": "https://localhost:8080/",
          "height": 35
        },
        "id": "JFiylAv-TqzQ",
        "outputId": "4120a9eb-d4cc-4353-cd5f-67b95e1af815"
      },
      "source": [
        "shutil.make_archive('data', 'zip', \"data\")"
      ],
      "execution_count": null,
      "outputs": [
        {
          "output_type": "execute_result",
          "data": {
            "application/vnd.google.colaboratory.intrinsic+json": {
              "type": "string"
            },
            "text/plain": [
              "'/content/data.zip'"
            ]
          },
          "metadata": {
            "tags": []
          },
          "execution_count": 25
        }
      ]
    },
    {
      "cell_type": "code",
      "metadata": {
        "id": "H1FoT1JVT1R1",
        "colab": {
          "base_uri": "https://localhost:8080/"
        },
        "outputId": "c5f3441f-7f60-4387-a54a-a1cf2d16a2ea"
      },
      "source": [
        "! ls -lha "
      ],
      "execution_count": null,
      "outputs": [
        {
          "output_type": "stream",
          "text": [
            "total 279M\n",
            "drwxr-xr-x 1 root root 4.0K Apr 29 18:39 .\n",
            "drwxr-xr-x 1 root root 4.0K Apr 29 18:19 ..\n",
            "-rw-r--r-- 1 root root  66M Apr 29 18:29 archive.zip\n",
            "drwxr-xr-x 4 root root 4.0K Apr 21 13:38 .config\n",
            "-rw-r--r-- 1 root root 144M Sep 20  2019 creditcard.csv\n",
            "drwxr-xr-x 2 root root 4.0K Apr 29 18:39 data\n",
            "-rw-r--r-- 1 root root  70M Apr 29 18:40 data.zip\n",
            "-rw-r--r-- 1 root root 6.1K Apr 29 18:27 download\n",
            "drwxr-xr-x 2 root root 4.0K Apr 29 18:30 .ipynb_checkpoints\n",
            "drwxr-xr-x 1 root root 4.0K Apr 21 13:39 sample_data\n"
          ],
          "name": "stdout"
        }
      ]
    },
    {
      "cell_type": "code",
      "metadata": {
        "id": "4R0VeE1B6_3L"
      },
      "source": [
        ""
      ],
      "execution_count": null,
      "outputs": []
    }
  ]
}